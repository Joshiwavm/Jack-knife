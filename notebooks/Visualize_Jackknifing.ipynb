{
 "cells": [
  {
   "cell_type": "markdown",
   "id": "8d971192-2bb5-41c0-b5af-0e87a9e84aa0",
   "metadata": {},
   "source": [
    "# How to:\n",
    "## Visuzlize Jackknifed Measurement Sets\n",
    "This tutorial describes how to jack knife measurement sets (ms-files) -- in particular ALMA data -- to create observation-specific noise realizations. We use the `jacked` package to do the interferace with ms-file, split it, and image the visibillities."
   ]
  },
  {
   "cell_type": "code",
   "execution_count": 1,
   "id": "a26759ef-8147-477f-8884-9691d0a5df27",
   "metadata": {},
   "outputs": [],
   "source": [
    "import jacked"
   ]
  },
  {
   "cell_type": "markdown",
   "id": "3db31bb9-8856-4ae3-b3fe-2d0f03185af2",
   "metadata": {},
   "source": [
    "We need to initialize the measurement set, so that python can do the interface."
   ]
  },
  {
   "cell_type": "code",
   "execution_count": 2,
   "id": "5c75dafb-68cb-4e43-87b7-192e3f1c2617",
   "metadata": {
    "tags": []
   },
   "outputs": [
    {
     "ename": "TypeError",
     "evalue": "__init__() missing 1 required positional argument: 'outdir'",
     "output_type": "error",
     "traceback": [
      "\u001b[0;31m---------------------------------------------------------------------------\u001b[0m",
      "\u001b[0;31mTypeError\u001b[0m                                 Traceback (most recent call last)",
      "\u001b[0;32m<ipython-input-2-18e47906163c>\u001b[0m in \u001b[0;36m<module>\u001b[0;34m\u001b[0m\n\u001b[1;32m      4\u001b[0m                    \u001b[0mspws\u001b[0m    \u001b[0;34m=\u001b[0m \u001b[0;34m[\u001b[0m\u001b[0;34m[\u001b[0m\u001b[0;34m'0'\u001b[0m\u001b[0;34m]\u001b[0m\u001b[0;34m]\u001b[0m\u001b[0;34m,\u001b[0m \u001b[0;31m# and each field can have multiple spws,\u001b[0m\u001b[0;34m\u001b[0m\u001b[0;34m\u001b[0m\u001b[0m\n\u001b[1;32m      5\u001b[0m                    \u001b[0mband\u001b[0m    \u001b[0;34m=\u001b[0m \u001b[0;34m'Band7'\u001b[0m\u001b[0;34m,\u001b[0m \u001b[0;31m# Band of the observation,\u001b[0m\u001b[0;34m\u001b[0m\u001b[0;34m\u001b[0m\u001b[0m\n\u001b[0;32m----> 6\u001b[0;31m                    \u001b[0marray\u001b[0m   \u001b[0;34m=\u001b[0m \u001b[0;34m'C7'\u001b[0m\u001b[0;34m,\u001b[0m \u001b[0;31m# which configuration the observation are taken in,\u001b[0m\u001b[0;34m\u001b[0m\u001b[0;34m\u001b[0m\u001b[0m\n\u001b[0m\u001b[1;32m      7\u001b[0m                    )\n",
      "\u001b[0;31mTypeError\u001b[0m: __init__() missing 1 required positional argument: 'outdir'"
     ]
    }
   ],
   "source": [
    "#initilaize\n",
    "tool = jacked.Jack(fname   = '../data/Glass-z13.ms', # The File name of the visibilities, \n",
    "                   outdir  = '../output/' \n",
    "                   fields  = ['3'], # Each visibility can have multiple fields, \n",
    "                   spws    = [['0']], # and each field can have multiple spws,\n",
    "                   band    = 'Band7', # Band of the observation,\n",
    "                   array   = 'C7', # which configuration the observation are taken in,\n",
    "                   )"
   ]
  },
  {
   "cell_type": "markdown",
   "id": "ec1a048d-3e9a-4170-82e4-01981c864e11",
   "metadata": {},
   "source": [
    "To creat a Jack knifed measurement set, you simply need to run:"
   ]
  },
  {
   "cell_type": "code",
   "execution_count": null,
   "id": "6620c09e-6489-451b-bee5-8fb5332d2407",
   "metadata": {},
   "outputs": [],
   "source": [
    "tool.run(seed = 42)"
   ]
  },
  {
   "cell_type": "markdown",
   "id": "374826cc-c793-43d2-9c64-5eb0ea54a0d2",
   "metadata": {},
   "source": [
    "Want another one? Just run it again, but with another seed:"
   ]
  },
  {
   "cell_type": "code",
   "execution_count": 3,
   "id": "c8cd81f4-b246-4312-99a6-0f0f14eadb16",
   "metadata": {},
   "outputs": [
    {
     "name": "stderr",
     "output_type": "stream",
     "text": [
      "  0%|          | 0/1 [00:00<?, ?it/s]"
     ]
    },
    {
     "name": "stdout",
     "output_type": "stream",
     "text": [
      ".. Loading in MS\n",
      ".. Jack Knife it\n",
      ".. Saving to MS\n",
      ".. Image\n"
     ]
    },
    {
     "name": "stderr",
     "output_type": "stream",
     "text": [
      "  0%|          | 0/1 [03:23<?, ?it/s]\n",
      "ERROR:root:Internal Python error in the inspect module.\n",
      "Below is the traceback from this internal error.\n",
      "\n",
      "ERROR:root:Internal Python error in the inspect module.\n",
      "Below is the traceback from this internal error.\n",
      "\n"
     ]
    },
    {
     "name": "stdout",
     "output_type": "stream",
     "text": [
      "Traceback (most recent call last):\n",
      "  File \"/Users/jvanmarr/opt/anaconda3/envs/jacked_env/lib/python3.6/site-packages/IPython/core/interactiveshell.py\", line 3343, in run_code\n",
      "    exec(code_obj, self.user_global_ns, self.user_ns)\n",
      "  File \"<ipython-input-4-760429fedd64>\", line 1, in <module>\n",
      "    tool.run(seed = 142)\n",
      "  File \"/Users/jvanmarr/Documents/GitHub/Jack-knife/jacked/Operator.py\", line 146, in run\n",
      "  File \"/Users/jvanmarr/Documents/GitHub/Jack-knife/jacked/Operator.py\", line 117, in clean\n",
      "    weighting   =                            'natural',\n",
      "  File \"/Users/jvanmarr/opt/anaconda3/envs/jacked_env/lib/python3.6/site-packages/casatasks/tclean.py\", line 1717, in __call__\n",
      "    task_result = _tclean_t( _pc.document['vis'], _pc.document['selectdata'], _pc.document['field'], _pc.document['spw'], _pc.document['timerange'], _pc.document['uvrange'], _pc.document['antenna'], _pc.document['scan'], _pc.document['observation'], _pc.document['intent'], _pc.document['datacolumn'], _pc.document['imagename'], _pc.document['imsize'], _pc.document['cell'], _pc.document['phasecenter'], _pc.document['stokes'], _pc.document['projection'], _pc.document['startmodel'], _pc.document['specmode'], _pc.document['reffreq'], _pc.document['nchan'], _pc.document['start'], _pc.document['width'], _pc.document['outframe'], _pc.document['veltype'], _pc.document['restfreq'], _pc.document['interpolation'], _pc.document['perchanweightdensity'], _pc.document['gridder'], _pc.document['facets'], _pc.document['psfphasecenter'], _pc.document['wprojplanes'], _pc.document['vptable'], _pc.document['mosweight'], _pc.document['aterm'], _pc.document['psterm'], _pc.document['wbawp'], _pc.document['conjbeams'], _pc.document['cfcache'], _pc.document['usepointing'], _pc.document['computepastep'], _pc.document['rotatepastep'], _pc.document['pointingoffsetsigdev'], _pc.document['pblimit'], _pc.document['normtype'], _pc.document['deconvolver'], _pc.document['scales'], _pc.document['nterms'], _pc.document['smallscalebias'], _pc.document['fusedthreshold'], _pc.document['largestscale'], _pc.document['restoration'], _pc.document['restoringbeam'], _pc.document['pbcor'], _pc.document['outlierfile'], _pc.document['weighting'], _pc.document['robust'], _pc.document['noise'], _pc.document['npixels'], _pc.document['uvtaper'], _pc.document['niter'], _pc.document['gain'], _pc.document['threshold'], _pc.document['nsigma'], _pc.document['cycleniter'], _pc.document['cyclefactor'], _pc.document['minpsffraction'], _pc.document['maxpsffraction'], _pc.document['interactive'], _pc.document['usemask'], _pc.document['mask'], _pc.document['pbmask'], _pc.document['sidelobethreshold'], _pc.document['noisethreshold'], _pc.document['lownoisethreshold'], _pc.document['negativethreshold'], _pc.document['smoothfactor'], _pc.document['minbeamfrac'], _pc.document['cutthreshold'], _pc.document['growiterations'], _pc.document['dogrowprune'], _pc.document['minpercentchange'], _pc.document['verbose'], _pc.document['fastnoise'], _pc.document['restart'], _pc.document['savemodel'], _pc.document['calcres'], _pc.document['calcpsf'], _pc.document['psfcutoff'], _pc.document['parallel'] )\n",
      "  File \"/Users/jvanmarr/opt/anaconda3/envs/jacked_env/lib/python3.6/site-packages/casatasks/private/task_tclean.py\", line 428, in tclean\n",
      "    imager.runMajorCycle()\n",
      "  File \"/Users/jvanmarr/opt/anaconda3/envs/jacked_env/lib/python3.6/site-packages/casatasks/private/imagerhelpers/imager_base.py\", line 382, in runMajorCycle\n",
      "    self.runMajorCycleCore(lastcycle)\n",
      "  File \"/Users/jvanmarr/opt/anaconda3/envs/jacked_env/lib/python3.6/site-packages/casatasks/private/imagerhelpers/imager_base.py\", line 533, in runMajorCycleCore\n",
      "    self.SItool.executemajorcycle(controls=controldict)\n",
      "  File \"/Users/jvanmarr/opt/anaconda3/envs/jacked_env/lib/python3.6/site-packages/casatools/synthesisimager.py\", line 100, in executemajorcycle\n",
      "    return self._swigobj.executemajorcycle(_dict_ec(controls))\n",
      "  File \"/Users/jvanmarr/opt/anaconda3/envs/jacked_env/lib/python3.6/site-packages/casatools/__casac__/synthesisimager.py\", line 441, in executemajorcycle\n",
      "    return _synthesisimager.synthesisimager_executemajorcycle(self, *args, **kwargs)\n",
      "KeyboardInterrupt\n",
      "\n",
      "During handling of the above exception, another exception occurred:\n",
      "\n",
      "Traceback (most recent call last):\n",
      "  File \"/Users/jvanmarr/opt/anaconda3/envs/jacked_env/lib/python3.6/site-packages/IPython/core/interactiveshell.py\", line 2044, in showtraceback\n",
      "    stb = value._render_traceback_()\n",
      "AttributeError: 'KeyboardInterrupt' object has no attribute '_render_traceback_'\n",
      "\n",
      "During handling of the above exception, another exception occurred:\n",
      "\n",
      "Traceback (most recent call last):\n",
      "  File \"/Users/jvanmarr/opt/anaconda3/envs/jacked_env/lib/python3.6/site-packages/IPython/core/ultratb.py\", line 1169, in get_records\n",
      "    return _fixed_getinnerframes(etb, number_of_lines_of_context, tb_offset)\n",
      "  File \"/Users/jvanmarr/opt/anaconda3/envs/jacked_env/lib/python3.6/site-packages/IPython/core/ultratb.py\", line 316, in wrapped\n",
      "    return f(*args, **kwargs)\n",
      "  File \"/Users/jvanmarr/opt/anaconda3/envs/jacked_env/lib/python3.6/site-packages/IPython/core/ultratb.py\", line 350, in _fixed_getinnerframes\n",
      "    records = fix_frame_records_filenames(inspect.getinnerframes(etb, context))\n",
      "  File \"/Users/jvanmarr/opt/anaconda3/envs/jacked_env/lib/python3.6/inspect.py\", line 1490, in getinnerframes\n",
      "    frameinfo = (tb.tb_frame,) + getframeinfo(tb, context)\n",
      "  File \"/Users/jvanmarr/opt/anaconda3/envs/jacked_env/lib/python3.6/inspect.py\", line 1448, in getframeinfo\n",
      "    filename = getsourcefile(frame) or getfile(frame)\n",
      "  File \"/Users/jvanmarr/opt/anaconda3/envs/jacked_env/lib/python3.6/inspect.py\", line 696, in getsourcefile\n",
      "    if getattr(getmodule(object, filename), '__loader__', None) is not None:\n",
      "  File \"/Users/jvanmarr/opt/anaconda3/envs/jacked_env/lib/python3.6/inspect.py\", line 732, in getmodule\n",
      "    for modname, module in list(sys.modules.items()):\n",
      "KeyboardInterrupt\n",
      "Traceback (most recent call last):\n",
      "  File \"/Users/jvanmarr/opt/anaconda3/envs/jacked_env/lib/python3.6/site-packages/IPython/core/interactiveshell.py\", line 3343, in run_code\n",
      "    exec(code_obj, self.user_global_ns, self.user_ns)\n",
      "  File \"<ipython-input-4-760429fedd64>\", line 1, in <module>\n",
      "    tool.run(seed = 142)\n",
      "  File \"/Users/jvanmarr/Documents/GitHub/Jack-knife/jacked/Operator.py\", line 146, in run\n",
      "  File \"/Users/jvanmarr/Documents/GitHub/Jack-knife/jacked/Operator.py\", line 117, in clean\n",
      "    weighting   =                            'natural',\n",
      "  File \"/Users/jvanmarr/opt/anaconda3/envs/jacked_env/lib/python3.6/site-packages/casatasks/tclean.py\", line 1717, in __call__\n",
      "    task_result = _tclean_t( _pc.document['vis'], _pc.document['selectdata'], _pc.document['field'], _pc.document['spw'], _pc.document['timerange'], _pc.document['uvrange'], _pc.document['antenna'], _pc.document['scan'], _pc.document['observation'], _pc.document['intent'], _pc.document['datacolumn'], _pc.document['imagename'], _pc.document['imsize'], _pc.document['cell'], _pc.document['phasecenter'], _pc.document['stokes'], _pc.document['projection'], _pc.document['startmodel'], _pc.document['specmode'], _pc.document['reffreq'], _pc.document['nchan'], _pc.document['start'], _pc.document['width'], _pc.document['outframe'], _pc.document['veltype'], _pc.document['restfreq'], _pc.document['interpolation'], _pc.document['perchanweightdensity'], _pc.document['gridder'], _pc.document['facets'], _pc.document['psfphasecenter'], _pc.document['wprojplanes'], _pc.document['vptable'], _pc.document['mosweight'], _pc.document['aterm'], _pc.document['psterm'], _pc.document['wbawp'], _pc.document['conjbeams'], _pc.document['cfcache'], _pc.document['usepointing'], _pc.document['computepastep'], _pc.document['rotatepastep'], _pc.document['pointingoffsetsigdev'], _pc.document['pblimit'], _pc.document['normtype'], _pc.document['deconvolver'], _pc.document['scales'], _pc.document['nterms'], _pc.document['smallscalebias'], _pc.document['fusedthreshold'], _pc.document['largestscale'], _pc.document['restoration'], _pc.document['restoringbeam'], _pc.document['pbcor'], _pc.document['outlierfile'], _pc.document['weighting'], _pc.document['robust'], _pc.document['noise'], _pc.document['npixels'], _pc.document['uvtaper'], _pc.document['niter'], _pc.document['gain'], _pc.document['threshold'], _pc.document['nsigma'], _pc.document['cycleniter'], _pc.document['cyclefactor'], _pc.document['minpsffraction'], _pc.document['maxpsffraction'], _pc.document['interactive'], _pc.document['usemask'], _pc.document['mask'], _pc.document['pbmask'], _pc.document['sidelobethreshold'], _pc.document['noisethreshold'], _pc.document['lownoisethreshold'], _pc.document['negativethreshold'], _pc.document['smoothfactor'], _pc.document['minbeamfrac'], _pc.document['cutthreshold'], _pc.document['growiterations'], _pc.document['dogrowprune'], _pc.document['minpercentchange'], _pc.document['verbose'], _pc.document['fastnoise'], _pc.document['restart'], _pc.document['savemodel'], _pc.document['calcres'], _pc.document['calcpsf'], _pc.document['psfcutoff'], _pc.document['parallel'] )\n",
      "  File \"/Users/jvanmarr/opt/anaconda3/envs/jacked_env/lib/python3.6/site-packages/casatasks/private/task_tclean.py\", line 428, in tclean\n",
      "    imager.runMajorCycle()\n",
      "  File \"/Users/jvanmarr/opt/anaconda3/envs/jacked_env/lib/python3.6/site-packages/casatasks/private/imagerhelpers/imager_base.py\", line 382, in runMajorCycle\n",
      "    self.runMajorCycleCore(lastcycle)\n",
      "  File \"/Users/jvanmarr/opt/anaconda3/envs/jacked_env/lib/python3.6/site-packages/casatasks/private/imagerhelpers/imager_base.py\", line 533, in runMajorCycleCore\n",
      "    self.SItool.executemajorcycle(controls=controldict)\n",
      "  File \"/Users/jvanmarr/opt/anaconda3/envs/jacked_env/lib/python3.6/site-packages/casatools/synthesisimager.py\", line 100, in executemajorcycle\n",
      "    return self._swigobj.executemajorcycle(_dict_ec(controls))\n",
      "  File \"/Users/jvanmarr/opt/anaconda3/envs/jacked_env/lib/python3.6/site-packages/casatools/__casac__/synthesisimager.py\", line 441, in executemajorcycle\n",
      "    return _synthesisimager.synthesisimager_executemajorcycle(self, *args, **kwargs)\n",
      "KeyboardInterrupt\n",
      "\n",
      "During handling of the above exception, another exception occurred:\n",
      "\n",
      "Traceback (most recent call last):\n",
      "  File \"/Users/jvanmarr/opt/anaconda3/envs/jacked_env/lib/python3.6/site-packages/IPython/core/interactiveshell.py\", line 2044, in showtraceback\n",
      "    stb = value._render_traceback_()\n",
      "AttributeError: 'KeyboardInterrupt' object has no attribute '_render_traceback_'\n",
      "\n",
      "During handling of the above exception, another exception occurred:\n",
      "\n",
      "Traceback (most recent call last):\n",
      "  File \"/Users/jvanmarr/opt/anaconda3/envs/jacked_env/lib/python3.6/site-packages/IPython/core/interactiveshell.py\", line 3263, in run_ast_nodes\n",
      "    if (await self.run_code(code, result,  async_=asy)):\n",
      "  File \"/Users/jvanmarr/opt/anaconda3/envs/jacked_env/lib/python3.6/site-packages/IPython/core/interactiveshell.py\", line 3360, in run_code\n",
      "    self.showtraceback(running_compiled_code=True)\n",
      "  File \"/Users/jvanmarr/opt/anaconda3/envs/jacked_env/lib/python3.6/site-packages/IPython/core/interactiveshell.py\", line 2047, in showtraceback\n",
      "    value, tb, tb_offset=tb_offset)\n",
      "  File \"/Users/jvanmarr/opt/anaconda3/envs/jacked_env/lib/python3.6/site-packages/IPython/core/ultratb.py\", line 1436, in structured_traceback\n",
      "    self, etype, value, tb, tb_offset, number_of_lines_of_context)\n",
      "  File \"/Users/jvanmarr/opt/anaconda3/envs/jacked_env/lib/python3.6/site-packages/IPython/core/ultratb.py\", line 1336, in structured_traceback\n",
      "    self, etype, value, tb, tb_offset, number_of_lines_of_context\n",
      "  File \"/Users/jvanmarr/opt/anaconda3/envs/jacked_env/lib/python3.6/site-packages/IPython/core/ultratb.py\", line 1193, in structured_traceback\n",
      "    tb_offset)\n",
      "  File \"/Users/jvanmarr/opt/anaconda3/envs/jacked_env/lib/python3.6/site-packages/IPython/core/ultratb.py\", line 1150, in format_exception_as_a_whole\n",
      "    last_unique, recursion_repeat = find_recursion(orig_etype, evalue, records)\n",
      "  File \"/Users/jvanmarr/opt/anaconda3/envs/jacked_env/lib/python3.6/site-packages/IPython/core/ultratb.py\", line 451, in find_recursion\n",
      "    return len(records), 0\n",
      "TypeError: object of type 'NoneType' has no len()\n",
      "\n",
      "During handling of the above exception, another exception occurred:\n",
      "\n",
      "Traceback (most recent call last):\n",
      "  File \"/Users/jvanmarr/opt/anaconda3/envs/jacked_env/lib/python3.6/site-packages/IPython/core/interactiveshell.py\", line 2044, in showtraceback\n",
      "    stb = value._render_traceback_()\n",
      "AttributeError: 'TypeError' object has no attribute '_render_traceback_'\n",
      "\n",
      "During handling of the above exception, another exception occurred:\n",
      "\n",
      "Traceback (most recent call last):\n",
      "  File \"/Users/jvanmarr/opt/anaconda3/envs/jacked_env/lib/python3.6/site-packages/IPython/core/ultratb.py\", line 1169, in get_records\n",
      "    return _fixed_getinnerframes(etb, number_of_lines_of_context, tb_offset)\n",
      "  File \"/Users/jvanmarr/opt/anaconda3/envs/jacked_env/lib/python3.6/site-packages/IPython/core/ultratb.py\", line 316, in wrapped\n",
      "    return f(*args, **kwargs)\n",
      "  File \"/Users/jvanmarr/opt/anaconda3/envs/jacked_env/lib/python3.6/site-packages/IPython/core/ultratb.py\", line 350, in _fixed_getinnerframes\n",
      "    records = fix_frame_records_filenames(inspect.getinnerframes(etb, context))\n",
      "  File \"/Users/jvanmarr/opt/anaconda3/envs/jacked_env/lib/python3.6/inspect.py\", line 1490, in getinnerframes\n",
      "    frameinfo = (tb.tb_frame,) + getframeinfo(tb, context)\n",
      "  File \"/Users/jvanmarr/opt/anaconda3/envs/jacked_env/lib/python3.6/inspect.py\", line 1448, in getframeinfo\n",
      "    filename = getsourcefile(frame) or getfile(frame)\n",
      "  File \"/Users/jvanmarr/opt/anaconda3/envs/jacked_env/lib/python3.6/inspect.py\", line 696, in getsourcefile\n",
      "    if getattr(getmodule(object, filename), '__loader__', None) is not None:\n",
      "  File \"/Users/jvanmarr/opt/anaconda3/envs/jacked_env/lib/python3.6/inspect.py\", line 742, in getmodule\n",
      "    os.path.realpath(f)] = module.__name__\n",
      "  File \"/Users/jvanmarr/opt/anaconda3/envs/jacked_env/lib/python3.6/posixpath.py\", line 396, in realpath\n",
      "    return abspath(path)\n",
      "  File \"/Users/jvanmarr/opt/anaconda3/envs/jacked_env/lib/python3.6/posixpath.py\", line 385, in abspath\n",
      "    return normpath(path)\n",
      "  File \"/Users/jvanmarr/opt/anaconda3/envs/jacked_env/lib/python3.6/posixpath.py\", line 357, in normpath\n",
      "    path.startswith(sep*2) and not path.startswith(sep*3)):\n",
      "KeyboardInterrupt\n"
     ]
    },
    {
     "ename": "TypeError",
     "evalue": "object of type 'NoneType' has no len()",
     "output_type": "error",
     "traceback": [
      "\u001b[0;31m---------------------------------------------------------------------------\u001b[0m",
      "\u001b[0;31mKeyboardInterrupt\u001b[0m                         Traceback (most recent call last)",
      "    \u001b[0;31m[... skipping hidden 1 frame]\u001b[0m\n",
      "\u001b[0;32m<ipython-input-4-760429fedd64>\u001b[0m in \u001b[0;36m<module>\u001b[0;34m\u001b[0m\n\u001b[0;32m----> 1\u001b[0;31m \u001b[0mtool\u001b[0m\u001b[0;34m.\u001b[0m\u001b[0mrun\u001b[0m\u001b[0;34m(\u001b[0m\u001b[0mseed\u001b[0m \u001b[0;34m=\u001b[0m \u001b[0;36m142\u001b[0m\u001b[0;34m)\u001b[0m\u001b[0;34m\u001b[0m\u001b[0;34m\u001b[0m\u001b[0m\n\u001b[0m",
      "\u001b[0;32m~/Documents/GitHub/Jack-knife/jacked/Operator.py\u001b[0m in \u001b[0;36mrun\u001b[0;34m(self, samples, seed)\u001b[0m\n\u001b[1;32m    145\u001b[0m             \u001b[0mself\u001b[0m\u001b[0;34m.\u001b[0m\u001b[0m_saver\u001b[0m\u001b[0;34m(\u001b[0m\u001b[0;34m)\u001b[0m\u001b[0;34m\u001b[0m\u001b[0;34m\u001b[0m\u001b[0m\n\u001b[0;32m--> 146\u001b[0;31m \u001b[0;34m\u001b[0m\u001b[0m\n\u001b[0m\u001b[1;32m    147\u001b[0m             \u001b[0mprint\u001b[0m\u001b[0;34m(\u001b[0m\u001b[0;34m'.. Image'\u001b[0m\u001b[0;34m)\u001b[0m\u001b[0;34m\u001b[0m\u001b[0;34m\u001b[0m\u001b[0m\n",
      "\u001b[0;32m~/Documents/GitHub/Jack-knife/jacked/Operator.py\u001b[0m in \u001b[0;36mclean\u001b[0;34m(self, vis)\u001b[0m\n\u001b[1;32m    116\u001b[0m                 \u001b[0mgridder\u001b[0m     \u001b[0;34m=\u001b[0m                           \u001b[0;34m'standard'\u001b[0m\u001b[0;34m,\u001b[0m\u001b[0;34m\u001b[0m\u001b[0;34m\u001b[0m\u001b[0m\n\u001b[0;32m--> 117\u001b[0;31m                 \u001b[0mweighting\u001b[0m   \u001b[0;34m=\u001b[0m                            \u001b[0;34m'natural'\u001b[0m\u001b[0;34m,\u001b[0m\u001b[0;34m\u001b[0m\u001b[0;34m\u001b[0m\u001b[0m\n\u001b[0m\u001b[1;32m    118\u001b[0m                 specmode    =                               'cube')     \n",
      "\u001b[0;32m~/opt/anaconda3/envs/jacked_env/lib/python3.6/site-packages/casatasks/tclean.py\u001b[0m in \u001b[0;36m__call__\u001b[0;34m(self, vis, selectdata, field, spw, timerange, uvrange, antenna, scan, observation, intent, datacolumn, imagename, imsize, cell, phasecenter, stokes, projection, startmodel, specmode, reffreq, nchan, start, width, outframe, veltype, restfreq, interpolation, perchanweightdensity, gridder, facets, psfphasecenter, wprojplanes, vptable, mosweight, aterm, psterm, wbawp, conjbeams, cfcache, usepointing, computepastep, rotatepastep, pointingoffsetsigdev, pblimit, normtype, deconvolver, scales, nterms, smallscalebias, fusedthreshold, largestscale, restoration, restoringbeam, pbcor, outlierfile, weighting, robust, noise, npixels, uvtaper, niter, gain, threshold, nsigma, cycleniter, cyclefactor, minpsffraction, maxpsffraction, interactive, usemask, mask, pbmask, sidelobethreshold, noisethreshold, lownoisethreshold, negativethreshold, smoothfactor, minbeamfrac, cutthreshold, growiterations, dogrowprune, minpercentchange, verbose, fastnoise, restart, savemodel, calcres, calcpsf, psfcutoff, parallel)\u001b[0m\n\u001b[1;32m   1716\u001b[0m         \u001b[0;32mtry\u001b[0m\u001b[0;34m:\u001b[0m\u001b[0;34m\u001b[0m\u001b[0;34m\u001b[0m\u001b[0m\n\u001b[0;32m-> 1717\u001b[0;31m             \u001b[0mtask_result\u001b[0m \u001b[0;34m=\u001b[0m \u001b[0m_tclean_t\u001b[0m\u001b[0;34m(\u001b[0m \u001b[0m_pc\u001b[0m\u001b[0;34m.\u001b[0m\u001b[0mdocument\u001b[0m\u001b[0;34m[\u001b[0m\u001b[0;34m'vis'\u001b[0m\u001b[0;34m]\u001b[0m\u001b[0;34m,\u001b[0m \u001b[0m_pc\u001b[0m\u001b[0;34m.\u001b[0m\u001b[0mdocument\u001b[0m\u001b[0;34m[\u001b[0m\u001b[0;34m'selectdata'\u001b[0m\u001b[0;34m]\u001b[0m\u001b[0;34m,\u001b[0m \u001b[0m_pc\u001b[0m\u001b[0;34m.\u001b[0m\u001b[0mdocument\u001b[0m\u001b[0;34m[\u001b[0m\u001b[0;34m'field'\u001b[0m\u001b[0;34m]\u001b[0m\u001b[0;34m,\u001b[0m \u001b[0m_pc\u001b[0m\u001b[0;34m.\u001b[0m\u001b[0mdocument\u001b[0m\u001b[0;34m[\u001b[0m\u001b[0;34m'spw'\u001b[0m\u001b[0;34m]\u001b[0m\u001b[0;34m,\u001b[0m \u001b[0m_pc\u001b[0m\u001b[0;34m.\u001b[0m\u001b[0mdocument\u001b[0m\u001b[0;34m[\u001b[0m\u001b[0;34m'timerange'\u001b[0m\u001b[0;34m]\u001b[0m\u001b[0;34m,\u001b[0m \u001b[0m_pc\u001b[0m\u001b[0;34m.\u001b[0m\u001b[0mdocument\u001b[0m\u001b[0;34m[\u001b[0m\u001b[0;34m'uvrange'\u001b[0m\u001b[0;34m]\u001b[0m\u001b[0;34m,\u001b[0m \u001b[0m_pc\u001b[0m\u001b[0;34m.\u001b[0m\u001b[0mdocument\u001b[0m\u001b[0;34m[\u001b[0m\u001b[0;34m'antenna'\u001b[0m\u001b[0;34m]\u001b[0m\u001b[0;34m,\u001b[0m \u001b[0m_pc\u001b[0m\u001b[0;34m.\u001b[0m\u001b[0mdocument\u001b[0m\u001b[0;34m[\u001b[0m\u001b[0;34m'scan'\u001b[0m\u001b[0;34m]\u001b[0m\u001b[0;34m,\u001b[0m \u001b[0m_pc\u001b[0m\u001b[0;34m.\u001b[0m\u001b[0mdocument\u001b[0m\u001b[0;34m[\u001b[0m\u001b[0;34m'observation'\u001b[0m\u001b[0;34m]\u001b[0m\u001b[0;34m,\u001b[0m \u001b[0m_pc\u001b[0m\u001b[0;34m.\u001b[0m\u001b[0mdocument\u001b[0m\u001b[0;34m[\u001b[0m\u001b[0;34m'intent'\u001b[0m\u001b[0;34m]\u001b[0m\u001b[0;34m,\u001b[0m \u001b[0m_pc\u001b[0m\u001b[0;34m.\u001b[0m\u001b[0mdocument\u001b[0m\u001b[0;34m[\u001b[0m\u001b[0;34m'datacolumn'\u001b[0m\u001b[0;34m]\u001b[0m\u001b[0;34m,\u001b[0m \u001b[0m_pc\u001b[0m\u001b[0;34m.\u001b[0m\u001b[0mdocument\u001b[0m\u001b[0;34m[\u001b[0m\u001b[0;34m'imagename'\u001b[0m\u001b[0;34m]\u001b[0m\u001b[0;34m,\u001b[0m \u001b[0m_pc\u001b[0m\u001b[0;34m.\u001b[0m\u001b[0mdocument\u001b[0m\u001b[0;34m[\u001b[0m\u001b[0;34m'imsize'\u001b[0m\u001b[0;34m]\u001b[0m\u001b[0;34m,\u001b[0m \u001b[0m_pc\u001b[0m\u001b[0;34m.\u001b[0m\u001b[0mdocument\u001b[0m\u001b[0;34m[\u001b[0m\u001b[0;34m'cell'\u001b[0m\u001b[0;34m]\u001b[0m\u001b[0;34m,\u001b[0m \u001b[0m_pc\u001b[0m\u001b[0;34m.\u001b[0m\u001b[0mdocument\u001b[0m\u001b[0;34m[\u001b[0m\u001b[0;34m'phasecenter'\u001b[0m\u001b[0;34m]\u001b[0m\u001b[0;34m,\u001b[0m \u001b[0m_pc\u001b[0m\u001b[0;34m.\u001b[0m\u001b[0mdocument\u001b[0m\u001b[0;34m[\u001b[0m\u001b[0;34m'stokes'\u001b[0m\u001b[0;34m]\u001b[0m\u001b[0;34m,\u001b[0m \u001b[0m_pc\u001b[0m\u001b[0;34m.\u001b[0m\u001b[0mdocument\u001b[0m\u001b[0;34m[\u001b[0m\u001b[0;34m'projection'\u001b[0m\u001b[0;34m]\u001b[0m\u001b[0;34m,\u001b[0m \u001b[0m_pc\u001b[0m\u001b[0;34m.\u001b[0m\u001b[0mdocument\u001b[0m\u001b[0;34m[\u001b[0m\u001b[0;34m'startmodel'\u001b[0m\u001b[0;34m]\u001b[0m\u001b[0;34m,\u001b[0m \u001b[0m_pc\u001b[0m\u001b[0;34m.\u001b[0m\u001b[0mdocument\u001b[0m\u001b[0;34m[\u001b[0m\u001b[0;34m'specmode'\u001b[0m\u001b[0;34m]\u001b[0m\u001b[0;34m,\u001b[0m \u001b[0m_pc\u001b[0m\u001b[0;34m.\u001b[0m\u001b[0mdocument\u001b[0m\u001b[0;34m[\u001b[0m\u001b[0;34m'reffreq'\u001b[0m\u001b[0;34m]\u001b[0m\u001b[0;34m,\u001b[0m \u001b[0m_pc\u001b[0m\u001b[0;34m.\u001b[0m\u001b[0mdocument\u001b[0m\u001b[0;34m[\u001b[0m\u001b[0;34m'nchan'\u001b[0m\u001b[0;34m]\u001b[0m\u001b[0;34m,\u001b[0m \u001b[0m_pc\u001b[0m\u001b[0;34m.\u001b[0m\u001b[0mdocument\u001b[0m\u001b[0;34m[\u001b[0m\u001b[0;34m'start'\u001b[0m\u001b[0;34m]\u001b[0m\u001b[0;34m,\u001b[0m \u001b[0m_pc\u001b[0m\u001b[0;34m.\u001b[0m\u001b[0mdocument\u001b[0m\u001b[0;34m[\u001b[0m\u001b[0;34m'width'\u001b[0m\u001b[0;34m]\u001b[0m\u001b[0;34m,\u001b[0m \u001b[0m_pc\u001b[0m\u001b[0;34m.\u001b[0m\u001b[0mdocument\u001b[0m\u001b[0;34m[\u001b[0m\u001b[0;34m'outframe'\u001b[0m\u001b[0;34m]\u001b[0m\u001b[0;34m,\u001b[0m \u001b[0m_pc\u001b[0m\u001b[0;34m.\u001b[0m\u001b[0mdocument\u001b[0m\u001b[0;34m[\u001b[0m\u001b[0;34m'veltype'\u001b[0m\u001b[0;34m]\u001b[0m\u001b[0;34m,\u001b[0m \u001b[0m_pc\u001b[0m\u001b[0;34m.\u001b[0m\u001b[0mdocument\u001b[0m\u001b[0;34m[\u001b[0m\u001b[0;34m'restfreq'\u001b[0m\u001b[0;34m]\u001b[0m\u001b[0;34m,\u001b[0m \u001b[0m_pc\u001b[0m\u001b[0;34m.\u001b[0m\u001b[0mdocument\u001b[0m\u001b[0;34m[\u001b[0m\u001b[0;34m'interpolation'\u001b[0m\u001b[0;34m]\u001b[0m\u001b[0;34m,\u001b[0m \u001b[0m_pc\u001b[0m\u001b[0;34m.\u001b[0m\u001b[0mdocument\u001b[0m\u001b[0;34m[\u001b[0m\u001b[0;34m'perchanweightdensity'\u001b[0m\u001b[0;34m]\u001b[0m\u001b[0;34m,\u001b[0m \u001b[0m_pc\u001b[0m\u001b[0;34m.\u001b[0m\u001b[0mdocument\u001b[0m\u001b[0;34m[\u001b[0m\u001b[0;34m'gridder'\u001b[0m\u001b[0;34m]\u001b[0m\u001b[0;34m,\u001b[0m \u001b[0m_pc\u001b[0m\u001b[0;34m.\u001b[0m\u001b[0mdocument\u001b[0m\u001b[0;34m[\u001b[0m\u001b[0;34m'facets'\u001b[0m\u001b[0;34m]\u001b[0m\u001b[0;34m,\u001b[0m \u001b[0m_pc\u001b[0m\u001b[0;34m.\u001b[0m\u001b[0mdocument\u001b[0m\u001b[0;34m[\u001b[0m\u001b[0;34m'psfphasecenter'\u001b[0m\u001b[0;34m]\u001b[0m\u001b[0;34m,\u001b[0m \u001b[0m_pc\u001b[0m\u001b[0;34m.\u001b[0m\u001b[0mdocument\u001b[0m\u001b[0;34m[\u001b[0m\u001b[0;34m'wprojplanes'\u001b[0m\u001b[0;34m]\u001b[0m\u001b[0;34m,\u001b[0m \u001b[0m_pc\u001b[0m\u001b[0;34m.\u001b[0m\u001b[0mdocument\u001b[0m\u001b[0;34m[\u001b[0m\u001b[0;34m'vptable'\u001b[0m\u001b[0;34m]\u001b[0m\u001b[0;34m,\u001b[0m \u001b[0m_pc\u001b[0m\u001b[0;34m.\u001b[0m\u001b[0mdocument\u001b[0m\u001b[0;34m[\u001b[0m\u001b[0;34m'mosweight'\u001b[0m\u001b[0;34m]\u001b[0m\u001b[0;34m,\u001b[0m \u001b[0m_pc\u001b[0m\u001b[0;34m.\u001b[0m\u001b[0mdocument\u001b[0m\u001b[0;34m[\u001b[0m\u001b[0;34m'aterm'\u001b[0m\u001b[0;34m]\u001b[0m\u001b[0;34m,\u001b[0m \u001b[0m_pc\u001b[0m\u001b[0;34m.\u001b[0m\u001b[0mdocument\u001b[0m\u001b[0;34m[\u001b[0m\u001b[0;34m'psterm'\u001b[0m\u001b[0;34m]\u001b[0m\u001b[0;34m,\u001b[0m \u001b[0m_pc\u001b[0m\u001b[0;34m.\u001b[0m\u001b[0mdocument\u001b[0m\u001b[0;34m[\u001b[0m\u001b[0;34m'wbawp'\u001b[0m\u001b[0;34m]\u001b[0m\u001b[0;34m,\u001b[0m \u001b[0m_pc\u001b[0m\u001b[0;34m.\u001b[0m\u001b[0mdocument\u001b[0m\u001b[0;34m[\u001b[0m\u001b[0;34m'conjbeams'\u001b[0m\u001b[0;34m]\u001b[0m\u001b[0;34m,\u001b[0m \u001b[0m_pc\u001b[0m\u001b[0;34m.\u001b[0m\u001b[0mdocument\u001b[0m\u001b[0;34m[\u001b[0m\u001b[0;34m'cfcache'\u001b[0m\u001b[0;34m]\u001b[0m\u001b[0;34m,\u001b[0m \u001b[0m_pc\u001b[0m\u001b[0;34m.\u001b[0m\u001b[0mdocument\u001b[0m\u001b[0;34m[\u001b[0m\u001b[0;34m'usepointing'\u001b[0m\u001b[0;34m]\u001b[0m\u001b[0;34m,\u001b[0m \u001b[0m_pc\u001b[0m\u001b[0;34m.\u001b[0m\u001b[0mdocument\u001b[0m\u001b[0;34m[\u001b[0m\u001b[0;34m'computepastep'\u001b[0m\u001b[0;34m]\u001b[0m\u001b[0;34m,\u001b[0m \u001b[0m_pc\u001b[0m\u001b[0;34m.\u001b[0m\u001b[0mdocument\u001b[0m\u001b[0;34m[\u001b[0m\u001b[0;34m'rotatepastep'\u001b[0m\u001b[0;34m]\u001b[0m\u001b[0;34m,\u001b[0m \u001b[0m_pc\u001b[0m\u001b[0;34m.\u001b[0m\u001b[0mdocument\u001b[0m\u001b[0;34m[\u001b[0m\u001b[0;34m'pointingoffsetsigdev'\u001b[0m\u001b[0;34m]\u001b[0m\u001b[0;34m,\u001b[0m \u001b[0m_pc\u001b[0m\u001b[0;34m.\u001b[0m\u001b[0mdocument\u001b[0m\u001b[0;34m[\u001b[0m\u001b[0;34m'pblimit'\u001b[0m\u001b[0;34m]\u001b[0m\u001b[0;34m,\u001b[0m \u001b[0m_pc\u001b[0m\u001b[0;34m.\u001b[0m\u001b[0mdocument\u001b[0m\u001b[0;34m[\u001b[0m\u001b[0;34m'normtype'\u001b[0m\u001b[0;34m]\u001b[0m\u001b[0;34m,\u001b[0m \u001b[0m_pc\u001b[0m\u001b[0;34m.\u001b[0m\u001b[0mdocument\u001b[0m\u001b[0;34m[\u001b[0m\u001b[0;34m'deconvolver'\u001b[0m\u001b[0;34m]\u001b[0m\u001b[0;34m,\u001b[0m \u001b[0m_pc\u001b[0m\u001b[0;34m.\u001b[0m\u001b[0mdocument\u001b[0m\u001b[0;34m[\u001b[0m\u001b[0;34m'scales'\u001b[0m\u001b[0;34m]\u001b[0m\u001b[0;34m,\u001b[0m \u001b[0m_pc\u001b[0m\u001b[0;34m.\u001b[0m\u001b[0mdocument\u001b[0m\u001b[0;34m[\u001b[0m\u001b[0;34m'nterms'\u001b[0m\u001b[0;34m]\u001b[0m\u001b[0;34m,\u001b[0m \u001b[0m_pc\u001b[0m\u001b[0;34m.\u001b[0m\u001b[0mdocument\u001b[0m\u001b[0;34m[\u001b[0m\u001b[0;34m'smallscalebias'\u001b[0m\u001b[0;34m]\u001b[0m\u001b[0;34m,\u001b[0m \u001b[0m_pc\u001b[0m\u001b[0;34m.\u001b[0m\u001b[0mdocument\u001b[0m\u001b[0;34m[\u001b[0m\u001b[0;34m'fusedthreshold'\u001b[0m\u001b[0;34m]\u001b[0m\u001b[0;34m,\u001b[0m \u001b[0m_pc\u001b[0m\u001b[0;34m.\u001b[0m\u001b[0mdocument\u001b[0m\u001b[0;34m[\u001b[0m\u001b[0;34m'largestscale'\u001b[0m\u001b[0;34m]\u001b[0m\u001b[0;34m,\u001b[0m \u001b[0m_pc\u001b[0m\u001b[0;34m.\u001b[0m\u001b[0mdocument\u001b[0m\u001b[0;34m[\u001b[0m\u001b[0;34m'restoration'\u001b[0m\u001b[0;34m]\u001b[0m\u001b[0;34m,\u001b[0m \u001b[0m_pc\u001b[0m\u001b[0;34m.\u001b[0m\u001b[0mdocument\u001b[0m\u001b[0;34m[\u001b[0m\u001b[0;34m'restoringbeam'\u001b[0m\u001b[0;34m]\u001b[0m\u001b[0;34m,\u001b[0m \u001b[0m_pc\u001b[0m\u001b[0;34m.\u001b[0m\u001b[0mdocument\u001b[0m\u001b[0;34m[\u001b[0m\u001b[0;34m'pbcor'\u001b[0m\u001b[0;34m]\u001b[0m\u001b[0;34m,\u001b[0m \u001b[0m_pc\u001b[0m\u001b[0;34m.\u001b[0m\u001b[0mdocument\u001b[0m\u001b[0;34m[\u001b[0m\u001b[0;34m'outlierfile'\u001b[0m\u001b[0;34m]\u001b[0m\u001b[0;34m,\u001b[0m \u001b[0m_pc\u001b[0m\u001b[0;34m.\u001b[0m\u001b[0mdocument\u001b[0m\u001b[0;34m[\u001b[0m\u001b[0;34m'weighting'\u001b[0m\u001b[0;34m]\u001b[0m\u001b[0;34m,\u001b[0m \u001b[0m_pc\u001b[0m\u001b[0;34m.\u001b[0m\u001b[0mdocument\u001b[0m\u001b[0;34m[\u001b[0m\u001b[0;34m'robust'\u001b[0m\u001b[0;34m]\u001b[0m\u001b[0;34m,\u001b[0m \u001b[0m_pc\u001b[0m\u001b[0;34m.\u001b[0m\u001b[0mdocument\u001b[0m\u001b[0;34m[\u001b[0m\u001b[0;34m'noise'\u001b[0m\u001b[0;34m]\u001b[0m\u001b[0;34m,\u001b[0m \u001b[0m_pc\u001b[0m\u001b[0;34m.\u001b[0m\u001b[0mdocument\u001b[0m\u001b[0;34m[\u001b[0m\u001b[0;34m'npixels'\u001b[0m\u001b[0;34m]\u001b[0m\u001b[0;34m,\u001b[0m \u001b[0m_pc\u001b[0m\u001b[0;34m.\u001b[0m\u001b[0mdocument\u001b[0m\u001b[0;34m[\u001b[0m\u001b[0;34m'uvtaper'\u001b[0m\u001b[0;34m]\u001b[0m\u001b[0;34m,\u001b[0m \u001b[0m_pc\u001b[0m\u001b[0;34m.\u001b[0m\u001b[0mdocument\u001b[0m\u001b[0;34m[\u001b[0m\u001b[0;34m'niter'\u001b[0m\u001b[0;34m]\u001b[0m\u001b[0;34m,\u001b[0m \u001b[0m_pc\u001b[0m\u001b[0;34m.\u001b[0m\u001b[0mdocument\u001b[0m\u001b[0;34m[\u001b[0m\u001b[0;34m'gain'\u001b[0m\u001b[0;34m]\u001b[0m\u001b[0;34m,\u001b[0m \u001b[0m_pc\u001b[0m\u001b[0;34m.\u001b[0m\u001b[0mdocument\u001b[0m\u001b[0;34m[\u001b[0m\u001b[0;34m'threshold'\u001b[0m\u001b[0;34m]\u001b[0m\u001b[0;34m,\u001b[0m \u001b[0m_pc\u001b[0m\u001b[0;34m.\u001b[0m\u001b[0mdocument\u001b[0m\u001b[0;34m[\u001b[0m\u001b[0;34m'nsigma'\u001b[0m\u001b[0;34m]\u001b[0m\u001b[0;34m,\u001b[0m \u001b[0m_pc\u001b[0m\u001b[0;34m.\u001b[0m\u001b[0mdocument\u001b[0m\u001b[0;34m[\u001b[0m\u001b[0;34m'cycleniter'\u001b[0m\u001b[0;34m]\u001b[0m\u001b[0;34m,\u001b[0m \u001b[0m_pc\u001b[0m\u001b[0;34m.\u001b[0m\u001b[0mdocument\u001b[0m\u001b[0;34m[\u001b[0m\u001b[0;34m'cyclefactor'\u001b[0m\u001b[0;34m]\u001b[0m\u001b[0;34m,\u001b[0m \u001b[0m_pc\u001b[0m\u001b[0;34m.\u001b[0m\u001b[0mdocument\u001b[0m\u001b[0;34m[\u001b[0m\u001b[0;34m'minpsffraction'\u001b[0m\u001b[0;34m]\u001b[0m\u001b[0;34m,\u001b[0m \u001b[0m_pc\u001b[0m\u001b[0;34m.\u001b[0m\u001b[0mdocument\u001b[0m\u001b[0;34m[\u001b[0m\u001b[0;34m'maxpsffraction'\u001b[0m\u001b[0;34m]\u001b[0m\u001b[0;34m,\u001b[0m \u001b[0m_pc\u001b[0m\u001b[0;34m.\u001b[0m\u001b[0mdocument\u001b[0m\u001b[0;34m[\u001b[0m\u001b[0;34m'interactive'\u001b[0m\u001b[0;34m]\u001b[0m\u001b[0;34m,\u001b[0m \u001b[0m_pc\u001b[0m\u001b[0;34m.\u001b[0m\u001b[0mdocument\u001b[0m\u001b[0;34m[\u001b[0m\u001b[0;34m'usemask'\u001b[0m\u001b[0;34m]\u001b[0m\u001b[0;34m,\u001b[0m \u001b[0m_pc\u001b[0m\u001b[0;34m.\u001b[0m\u001b[0mdocument\u001b[0m\u001b[0;34m[\u001b[0m\u001b[0;34m'mask'\u001b[0m\u001b[0;34m]\u001b[0m\u001b[0;34m,\u001b[0m \u001b[0m_pc\u001b[0m\u001b[0;34m.\u001b[0m\u001b[0mdocument\u001b[0m\u001b[0;34m[\u001b[0m\u001b[0;34m'pbmask'\u001b[0m\u001b[0;34m]\u001b[0m\u001b[0;34m,\u001b[0m \u001b[0m_pc\u001b[0m\u001b[0;34m.\u001b[0m\u001b[0mdocument\u001b[0m\u001b[0;34m[\u001b[0m\u001b[0;34m'sidelobethreshold'\u001b[0m\u001b[0;34m]\u001b[0m\u001b[0;34m,\u001b[0m \u001b[0m_pc\u001b[0m\u001b[0;34m.\u001b[0m\u001b[0mdocument\u001b[0m\u001b[0;34m[\u001b[0m\u001b[0;34m'noisethreshold'\u001b[0m\u001b[0;34m]\u001b[0m\u001b[0;34m,\u001b[0m \u001b[0m_pc\u001b[0m\u001b[0;34m.\u001b[0m\u001b[0mdocument\u001b[0m\u001b[0;34m[\u001b[0m\u001b[0;34m'lownoisethreshold'\u001b[0m\u001b[0;34m]\u001b[0m\u001b[0;34m,\u001b[0m \u001b[0m_pc\u001b[0m\u001b[0;34m.\u001b[0m\u001b[0mdocument\u001b[0m\u001b[0;34m[\u001b[0m\u001b[0;34m'negativethreshold'\u001b[0m\u001b[0;34m]\u001b[0m\u001b[0;34m,\u001b[0m \u001b[0m_pc\u001b[0m\u001b[0;34m.\u001b[0m\u001b[0mdocument\u001b[0m\u001b[0;34m[\u001b[0m\u001b[0;34m'smoothfactor'\u001b[0m\u001b[0;34m]\u001b[0m\u001b[0;34m,\u001b[0m \u001b[0m_pc\u001b[0m\u001b[0;34m.\u001b[0m\u001b[0mdocument\u001b[0m\u001b[0;34m[\u001b[0m\u001b[0;34m'minbeamfrac'\u001b[0m\u001b[0;34m]\u001b[0m\u001b[0;34m,\u001b[0m \u001b[0m_pc\u001b[0m\u001b[0;34m.\u001b[0m\u001b[0mdocument\u001b[0m\u001b[0;34m[\u001b[0m\u001b[0;34m'cutthreshold'\u001b[0m\u001b[0;34m]\u001b[0m\u001b[0;34m,\u001b[0m \u001b[0m_pc\u001b[0m\u001b[0;34m.\u001b[0m\u001b[0mdocument\u001b[0m\u001b[0;34m[\u001b[0m\u001b[0;34m'growiterations'\u001b[0m\u001b[0;34m]\u001b[0m\u001b[0;34m,\u001b[0m \u001b[0m_pc\u001b[0m\u001b[0;34m.\u001b[0m\u001b[0mdocument\u001b[0m\u001b[0;34m[\u001b[0m\u001b[0;34m'dogrowprune'\u001b[0m\u001b[0;34m]\u001b[0m\u001b[0;34m,\u001b[0m \u001b[0m_pc\u001b[0m\u001b[0;34m.\u001b[0m\u001b[0mdocument\u001b[0m\u001b[0;34m[\u001b[0m\u001b[0;34m'minpercentchange'\u001b[0m\u001b[0;34m]\u001b[0m\u001b[0;34m,\u001b[0m \u001b[0m_pc\u001b[0m\u001b[0;34m.\u001b[0m\u001b[0mdocument\u001b[0m\u001b[0;34m[\u001b[0m\u001b[0;34m'verbose'\u001b[0m\u001b[0;34m]\u001b[0m\u001b[0;34m,\u001b[0m \u001b[0m_pc\u001b[0m\u001b[0;34m.\u001b[0m\u001b[0mdocument\u001b[0m\u001b[0;34m[\u001b[0m\u001b[0;34m'fastnoise'\u001b[0m\u001b[0;34m]\u001b[0m\u001b[0;34m,\u001b[0m \u001b[0m_pc\u001b[0m\u001b[0;34m.\u001b[0m\u001b[0mdocument\u001b[0m\u001b[0;34m[\u001b[0m\u001b[0;34m'restart'\u001b[0m\u001b[0;34m]\u001b[0m\u001b[0;34m,\u001b[0m \u001b[0m_pc\u001b[0m\u001b[0;34m.\u001b[0m\u001b[0mdocument\u001b[0m\u001b[0;34m[\u001b[0m\u001b[0;34m'savemodel'\u001b[0m\u001b[0;34m]\u001b[0m\u001b[0;34m,\u001b[0m \u001b[0m_pc\u001b[0m\u001b[0;34m.\u001b[0m\u001b[0mdocument\u001b[0m\u001b[0;34m[\u001b[0m\u001b[0;34m'calcres'\u001b[0m\u001b[0;34m]\u001b[0m\u001b[0;34m,\u001b[0m \u001b[0m_pc\u001b[0m\u001b[0;34m.\u001b[0m\u001b[0mdocument\u001b[0m\u001b[0;34m[\u001b[0m\u001b[0;34m'calcpsf'\u001b[0m\u001b[0;34m]\u001b[0m\u001b[0;34m,\u001b[0m \u001b[0m_pc\u001b[0m\u001b[0;34m.\u001b[0m\u001b[0mdocument\u001b[0m\u001b[0;34m[\u001b[0m\u001b[0;34m'psfcutoff'\u001b[0m\u001b[0;34m]\u001b[0m\u001b[0;34m,\u001b[0m \u001b[0m_pc\u001b[0m\u001b[0;34m.\u001b[0m\u001b[0mdocument\u001b[0m\u001b[0;34m[\u001b[0m\u001b[0;34m'parallel'\u001b[0m\u001b[0;34m]\u001b[0m \u001b[0;34m)\u001b[0m\u001b[0;34m\u001b[0m\u001b[0;34m\u001b[0m\u001b[0m\n\u001b[0m\u001b[1;32m   1718\u001b[0m         \u001b[0;32mexcept\u001b[0m \u001b[0mException\u001b[0m \u001b[0;32mas\u001b[0m \u001b[0mexc\u001b[0m\u001b[0;34m:\u001b[0m\u001b[0;34m\u001b[0m\u001b[0;34m\u001b[0m\u001b[0m\n",
      "\u001b[0;32m~/opt/anaconda3/envs/jacked_env/lib/python3.6/site-packages/casatasks/private/task_tclean.py\u001b[0m in \u001b[0;36mtclean\u001b[0;34m(vis, selectdata, field, spw, timerange, uvrange, antenna, scan, observation, intent, datacolumn, imagename, imsize, cell, phasecenter, stokes, projection, startmodel, specmode, reffreq, nchan, start, width, outframe, veltype, restfreq, interpolation, perchanweightdensity, gridder, facets, psfphasecenter, wprojplanes, vptable, mosweight, aterm, psterm, wbawp, conjbeams, cfcache, usepointing, computepastep, rotatepastep, pointingoffsetsigdev, pblimit, normtype, deconvolver, scales, nterms, smallscalebias, fusedthreshold, largestscale, restoration, restoringbeam, pbcor, outlierfile, weighting, robust, noise, npixels, uvtaper, niter, gain, threshold, nsigma, cycleniter, cyclefactor, minpsffraction, maxpsffraction, interactive, usemask, mask, pbmask, sidelobethreshold, noisethreshold, lownoisethreshold, negativethreshold, smoothfactor, minbeamfrac, cutthreshold, growiterations, dogrowprune, minpercentchange, verbose, fastnoise, restart, savemodel, calcres, calcpsf, psfcutoff, parallel)\u001b[0m\n\u001b[1;32m    427\u001b[0m                 \u001b[0mt0\u001b[0m\u001b[0;34m=\u001b[0m\u001b[0mtime\u001b[0m\u001b[0;34m.\u001b[0m\u001b[0mtime\u001b[0m\u001b[0;34m(\u001b[0m\u001b[0;34m)\u001b[0m\u001b[0;34m;\u001b[0m\u001b[0;34m\u001b[0m\u001b[0;34m\u001b[0m\u001b[0m\n\u001b[0;32m--> 428\u001b[0;31m                 \u001b[0mimager\u001b[0m\u001b[0;34m.\u001b[0m\u001b[0mrunMajorCycle\u001b[0m\u001b[0;34m(\u001b[0m\u001b[0;34m)\u001b[0m\u001b[0;34m\u001b[0m\u001b[0;34m\u001b[0m\u001b[0m\n\u001b[0m\u001b[1;32m    429\u001b[0m                 \u001b[0mt1\u001b[0m\u001b[0;34m=\u001b[0m\u001b[0mtime\u001b[0m\u001b[0;34m.\u001b[0m\u001b[0mtime\u001b[0m\u001b[0;34m(\u001b[0m\u001b[0;34m)\u001b[0m\u001b[0;34m;\u001b[0m\u001b[0;34m\u001b[0m\u001b[0;34m\u001b[0m\u001b[0m\n",
      "\u001b[0;32m~/opt/anaconda3/envs/jacked_env/lib/python3.6/site-packages/casatasks/private/imagerhelpers/imager_base.py\u001b[0m in \u001b[0;36mrunMajorCycle\u001b[0;34m(self)\u001b[0m\n\u001b[1;32m    381\u001b[0m         \u001b[0;32mif\u001b[0m \u001b[0;32mnot\u001b[0m \u001b[0mdivideInPython\u001b[0m \u001b[0;34m:\u001b[0m\u001b[0;34m\u001b[0m\u001b[0;34m\u001b[0m\u001b[0m\n\u001b[0;32m--> 382\u001b[0;31m             \u001b[0mself\u001b[0m\u001b[0;34m.\u001b[0m\u001b[0mrunMajorCycleCore\u001b[0m\u001b[0;34m(\u001b[0m\u001b[0mlastcycle\u001b[0m\u001b[0;34m)\u001b[0m\u001b[0;34m\u001b[0m\u001b[0;34m\u001b[0m\u001b[0m\n\u001b[0m\u001b[1;32m    383\u001b[0m             \u001b[0;32mif\u001b[0m \u001b[0mself\u001b[0m\u001b[0;34m.\u001b[0m\u001b[0mIBtool\u001b[0m \u001b[0;34m!=\u001b[0m \u001b[0;32mNone\u001b[0m\u001b[0;34m:\u001b[0m\u001b[0;34m\u001b[0m\u001b[0;34m\u001b[0m\u001b[0m\n",
      "\u001b[0;32m~/opt/anaconda3/envs/jacked_env/lib/python3.6/site-packages/casatasks/private/imagerhelpers/imager_base.py\u001b[0m in \u001b[0;36mrunMajorCycleCore\u001b[0;34m(self, lastcycle)\u001b[0m\n\u001b[1;32m    532\u001b[0m             \u001b[0mcontroldict\u001b[0m\u001b[0;34m[\u001b[0m\u001b[0;34m'usemask'\u001b[0m\u001b[0;34m]\u001b[0m\u001b[0;34m=\u001b[0m\u001b[0mself\u001b[0m\u001b[0;34m.\u001b[0m\u001b[0malldecpars\u001b[0m\u001b[0;34m[\u001b[0m\u001b[0;34m'0'\u001b[0m\u001b[0;34m]\u001b[0m\u001b[0;34m[\u001b[0m\u001b[0;34m'usemask'\u001b[0m\u001b[0;34m]\u001b[0m\u001b[0;34m\u001b[0m\u001b[0;34m\u001b[0m\u001b[0m\n\u001b[0;32m--> 533\u001b[0;31m         \u001b[0mself\u001b[0m\u001b[0;34m.\u001b[0m\u001b[0mSItool\u001b[0m\u001b[0;34m.\u001b[0m\u001b[0mexecutemajorcycle\u001b[0m\u001b[0;34m(\u001b[0m\u001b[0mcontrols\u001b[0m\u001b[0;34m=\u001b[0m\u001b[0mcontroldict\u001b[0m\u001b[0;34m)\u001b[0m\u001b[0;34m\u001b[0m\u001b[0;34m\u001b[0m\u001b[0m\n\u001b[0m\u001b[1;32m    534\u001b[0m \u001b[0;31m#############################################\u001b[0m\u001b[0;34m\u001b[0m\u001b[0;34m\u001b[0m\u001b[0;34m\u001b[0m\u001b[0m\n",
      "\u001b[0;32m~/opt/anaconda3/envs/jacked_env/lib/python3.6/site-packages/casatools/synthesisimager.py\u001b[0m in \u001b[0;36mexecutemajorcycle\u001b[0;34m(self, controls)\u001b[0m\n\u001b[1;32m     99\u001b[0m         \"\"\"\n\u001b[0;32m--> 100\u001b[0;31m         \u001b[0;32mreturn\u001b[0m \u001b[0mself\u001b[0m\u001b[0;34m.\u001b[0m\u001b[0m_swigobj\u001b[0m\u001b[0;34m.\u001b[0m\u001b[0mexecutemajorcycle\u001b[0m\u001b[0;34m(\u001b[0m\u001b[0m_dict_ec\u001b[0m\u001b[0;34m(\u001b[0m\u001b[0mcontrols\u001b[0m\u001b[0;34m)\u001b[0m\u001b[0;34m)\u001b[0m\u001b[0;34m\u001b[0m\u001b[0;34m\u001b[0m\u001b[0m\n\u001b[0m\u001b[1;32m    101\u001b[0m \u001b[0;34m\u001b[0m\u001b[0m\n",
      "\u001b[0;32m~/opt/anaconda3/envs/jacked_env/lib/python3.6/site-packages/casatools/__casac__/synthesisimager.py\u001b[0m in \u001b[0;36mexecutemajorcycle\u001b[0;34m(self, *args, **kwargs)\u001b[0m\n\u001b[1;32m    440\u001b[0m         \"\"\"\n\u001b[0;32m--> 441\u001b[0;31m         \u001b[0;32mreturn\u001b[0m \u001b[0m_synthesisimager\u001b[0m\u001b[0;34m.\u001b[0m\u001b[0msynthesisimager_executemajorcycle\u001b[0m\u001b[0;34m(\u001b[0m\u001b[0mself\u001b[0m\u001b[0;34m,\u001b[0m \u001b[0;34m*\u001b[0m\u001b[0margs\u001b[0m\u001b[0;34m,\u001b[0m \u001b[0;34m**\u001b[0m\u001b[0mkwargs\u001b[0m\u001b[0;34m)\u001b[0m\u001b[0;34m\u001b[0m\u001b[0;34m\u001b[0m\u001b[0m\n\u001b[0m\u001b[1;32m    442\u001b[0m \u001b[0;34m\u001b[0m\u001b[0m\n",
      "\u001b[0;31mKeyboardInterrupt\u001b[0m: ",
      "\nDuring handling of the above exception, another exception occurred:\n",
      "\u001b[0;31mAttributeError\u001b[0m                            Traceback (most recent call last)",
      "\u001b[0;32m~/opt/anaconda3/envs/jacked_env/lib/python3.6/site-packages/IPython/core/interactiveshell.py\u001b[0m in \u001b[0;36mshowtraceback\u001b[0;34m(self, exc_tuple, filename, tb_offset, exception_only, running_compiled_code)\u001b[0m\n\u001b[1;32m   2043\u001b[0m                         \u001b[0;31m# in the engines. This should return a list of strings.\u001b[0m\u001b[0;34m\u001b[0m\u001b[0;34m\u001b[0m\u001b[0;34m\u001b[0m\u001b[0m\n\u001b[0;32m-> 2044\u001b[0;31m                         \u001b[0mstb\u001b[0m \u001b[0;34m=\u001b[0m \u001b[0mvalue\u001b[0m\u001b[0;34m.\u001b[0m\u001b[0m_render_traceback_\u001b[0m\u001b[0;34m(\u001b[0m\u001b[0;34m)\u001b[0m\u001b[0;34m\u001b[0m\u001b[0;34m\u001b[0m\u001b[0m\n\u001b[0m\u001b[1;32m   2045\u001b[0m                     \u001b[0;32mexcept\u001b[0m \u001b[0mException\u001b[0m\u001b[0;34m:\u001b[0m\u001b[0;34m\u001b[0m\u001b[0;34m\u001b[0m\u001b[0m\n",
      "\u001b[0;31mAttributeError\u001b[0m: 'KeyboardInterrupt' object has no attribute '_render_traceback_'",
      "\nDuring handling of the above exception, another exception occurred:\n",
      "\u001b[0;31mTypeError\u001b[0m                                 Traceback (most recent call last)",
      "\u001b[0;32m~/opt/anaconda3/envs/jacked_env/lib/python3.6/site-packages/IPython/core/interactiveshell.py\u001b[0m in \u001b[0;36mrun_ast_nodes\u001b[0;34m(self, nodelist, cell_name, interactivity, compiler, result)\u001b[0m\n\u001b[1;32m   3262\u001b[0m                         \u001b[0masy\u001b[0m \u001b[0;34m=\u001b[0m \u001b[0mcompare\u001b[0m\u001b[0;34m(\u001b[0m\u001b[0mcode\u001b[0m\u001b[0;34m)\u001b[0m\u001b[0;34m\u001b[0m\u001b[0;34m\u001b[0m\u001b[0m\n\u001b[0;32m-> 3263\u001b[0;31m                     \u001b[0;32mif\u001b[0m \u001b[0;34m(\u001b[0m\u001b[0mawait\u001b[0m \u001b[0mself\u001b[0m\u001b[0;34m.\u001b[0m\u001b[0mrun_code\u001b[0m\u001b[0;34m(\u001b[0m\u001b[0mcode\u001b[0m\u001b[0;34m,\u001b[0m \u001b[0mresult\u001b[0m\u001b[0;34m,\u001b[0m  \u001b[0masync_\u001b[0m\u001b[0;34m=\u001b[0m\u001b[0masy\u001b[0m\u001b[0;34m)\u001b[0m\u001b[0;34m)\u001b[0m\u001b[0;34m:\u001b[0m\u001b[0;34m\u001b[0m\u001b[0;34m\u001b[0m\u001b[0m\n\u001b[0m\u001b[1;32m   3264\u001b[0m                         \u001b[0;32mreturn\u001b[0m \u001b[0;32mTrue\u001b[0m\u001b[0;34m\u001b[0m\u001b[0;34m\u001b[0m\u001b[0m\n",
      "    \u001b[0;31m[... skipping hidden 1 frame]\u001b[0m\n",
      "\u001b[0;32m~/opt/anaconda3/envs/jacked_env/lib/python3.6/site-packages/IPython/core/interactiveshell.py\u001b[0m in \u001b[0;36mshowtraceback\u001b[0;34m(self, exc_tuple, filename, tb_offset, exception_only, running_compiled_code)\u001b[0m\n\u001b[1;32m   2046\u001b[0m                         stb = self.InteractiveTB.structured_traceback(etype,\n\u001b[0;32m-> 2047\u001b[0;31m                                             value, tb, tb_offset=tb_offset)\n\u001b[0m\u001b[1;32m   2048\u001b[0m \u001b[0;34m\u001b[0m\u001b[0m\n",
      "\u001b[0;32m~/opt/anaconda3/envs/jacked_env/lib/python3.6/site-packages/IPython/core/ultratb.py\u001b[0m in \u001b[0;36mstructured_traceback\u001b[0;34m(self, etype, value, tb, tb_offset, number_of_lines_of_context)\u001b[0m\n\u001b[1;32m   1435\u001b[0m         return FormattedTB.structured_traceback(\n\u001b[0;32m-> 1436\u001b[0;31m             self, etype, value, tb, tb_offset, number_of_lines_of_context)\n\u001b[0m\u001b[1;32m   1437\u001b[0m \u001b[0;34m\u001b[0m\u001b[0m\n",
      "\u001b[0;32m~/opt/anaconda3/envs/jacked_env/lib/python3.6/site-packages/IPython/core/ultratb.py\u001b[0m in \u001b[0;36mstructured_traceback\u001b[0;34m(self, etype, value, tb, tb_offset, number_of_lines_of_context)\u001b[0m\n\u001b[1;32m   1335\u001b[0m             return VerboseTB.structured_traceback(\n\u001b[0;32m-> 1336\u001b[0;31m                 \u001b[0mself\u001b[0m\u001b[0;34m,\u001b[0m \u001b[0metype\u001b[0m\u001b[0;34m,\u001b[0m \u001b[0mvalue\u001b[0m\u001b[0;34m,\u001b[0m \u001b[0mtb\u001b[0m\u001b[0;34m,\u001b[0m \u001b[0mtb_offset\u001b[0m\u001b[0;34m,\u001b[0m \u001b[0mnumber_of_lines_of_context\u001b[0m\u001b[0;34m\u001b[0m\u001b[0;34m\u001b[0m\u001b[0m\n\u001b[0m\u001b[1;32m   1337\u001b[0m             )\n",
      "\u001b[0;32m~/opt/anaconda3/envs/jacked_env/lib/python3.6/site-packages/IPython/core/ultratb.py\u001b[0m in \u001b[0;36mstructured_traceback\u001b[0;34m(self, etype, evalue, etb, tb_offset, number_of_lines_of_context)\u001b[0m\n\u001b[1;32m   1192\u001b[0m         formatted_exception = self.format_exception_as_a_whole(etype, evalue, etb, number_of_lines_of_context,\n\u001b[0;32m-> 1193\u001b[0;31m                                                                tb_offset)\n\u001b[0m\u001b[1;32m   1194\u001b[0m \u001b[0;34m\u001b[0m\u001b[0m\n",
      "\u001b[0;32m~/opt/anaconda3/envs/jacked_env/lib/python3.6/site-packages/IPython/core/ultratb.py\u001b[0m in \u001b[0;36mformat_exception_as_a_whole\u001b[0;34m(self, etype, evalue, etb, number_of_lines_of_context, tb_offset)\u001b[0m\n\u001b[1;32m   1149\u001b[0m \u001b[0;34m\u001b[0m\u001b[0m\n\u001b[0;32m-> 1150\u001b[0;31m         \u001b[0mlast_unique\u001b[0m\u001b[0;34m,\u001b[0m \u001b[0mrecursion_repeat\u001b[0m \u001b[0;34m=\u001b[0m \u001b[0mfind_recursion\u001b[0m\u001b[0;34m(\u001b[0m\u001b[0morig_etype\u001b[0m\u001b[0;34m,\u001b[0m \u001b[0mevalue\u001b[0m\u001b[0;34m,\u001b[0m \u001b[0mrecords\u001b[0m\u001b[0;34m)\u001b[0m\u001b[0;34m\u001b[0m\u001b[0;34m\u001b[0m\u001b[0m\n\u001b[0m\u001b[1;32m   1151\u001b[0m \u001b[0;34m\u001b[0m\u001b[0m\n",
      "\u001b[0;32m~/opt/anaconda3/envs/jacked_env/lib/python3.6/site-packages/IPython/core/ultratb.py\u001b[0m in \u001b[0;36mfind_recursion\u001b[0;34m(etype, value, records)\u001b[0m\n\u001b[1;32m    450\u001b[0m     \u001b[0;32mif\u001b[0m \u001b[0;32mnot\u001b[0m \u001b[0mis_recursion_error\u001b[0m\u001b[0;34m(\u001b[0m\u001b[0metype\u001b[0m\u001b[0;34m,\u001b[0m \u001b[0mvalue\u001b[0m\u001b[0;34m,\u001b[0m \u001b[0mrecords\u001b[0m\u001b[0;34m)\u001b[0m\u001b[0;34m:\u001b[0m\u001b[0;34m\u001b[0m\u001b[0;34m\u001b[0m\u001b[0m\n\u001b[0;32m--> 451\u001b[0;31m         \u001b[0;32mreturn\u001b[0m \u001b[0mlen\u001b[0m\u001b[0;34m(\u001b[0m\u001b[0mrecords\u001b[0m\u001b[0;34m)\u001b[0m\u001b[0;34m,\u001b[0m \u001b[0;36m0\u001b[0m\u001b[0;34m\u001b[0m\u001b[0;34m\u001b[0m\u001b[0m\n\u001b[0m\u001b[1;32m    452\u001b[0m \u001b[0;34m\u001b[0m\u001b[0m\n",
      "\u001b[0;31mTypeError\u001b[0m: object of type 'NoneType' has no len()",
      "\nDuring handling of the above exception, another exception occurred:\n",
      "\u001b[0;31mAttributeError\u001b[0m                            Traceback (most recent call last)",
      "\u001b[0;32m~/opt/anaconda3/envs/jacked_env/lib/python3.6/site-packages/IPython/core/interactiveshell.py\u001b[0m in \u001b[0;36mshowtraceback\u001b[0;34m(self, exc_tuple, filename, tb_offset, exception_only, running_compiled_code)\u001b[0m\n\u001b[1;32m   2043\u001b[0m                         \u001b[0;31m# in the engines. This should return a list of strings.\u001b[0m\u001b[0;34m\u001b[0m\u001b[0;34m\u001b[0m\u001b[0;34m\u001b[0m\u001b[0m\n\u001b[0;32m-> 2044\u001b[0;31m                         \u001b[0mstb\u001b[0m \u001b[0;34m=\u001b[0m \u001b[0mvalue\u001b[0m\u001b[0;34m.\u001b[0m\u001b[0m_render_traceback_\u001b[0m\u001b[0;34m(\u001b[0m\u001b[0;34m)\u001b[0m\u001b[0;34m\u001b[0m\u001b[0;34m\u001b[0m\u001b[0m\n\u001b[0m\u001b[1;32m   2045\u001b[0m                     \u001b[0;32mexcept\u001b[0m \u001b[0mException\u001b[0m\u001b[0;34m:\u001b[0m\u001b[0;34m\u001b[0m\u001b[0;34m\u001b[0m\u001b[0m\n",
      "\u001b[0;31mAttributeError\u001b[0m: 'TypeError' object has no attribute '_render_traceback_'",
      "\nDuring handling of the above exception, another exception occurred:\n",
      "\u001b[0;31mTypeError\u001b[0m                                 Traceback (most recent call last)",
      "\u001b[0;32m~/opt/anaconda3/envs/jacked_env/lib/python3.6/site-packages/IPython/core/async_helpers.py\u001b[0m in \u001b[0;36m_pseudo_sync_runner\u001b[0;34m(coro)\u001b[0m\n\u001b[1;32m     66\u001b[0m     \"\"\"\n\u001b[1;32m     67\u001b[0m     \u001b[0;32mtry\u001b[0m\u001b[0;34m:\u001b[0m\u001b[0;34m\u001b[0m\u001b[0;34m\u001b[0m\u001b[0m\n\u001b[0;32m---> 68\u001b[0;31m         \u001b[0mcoro\u001b[0m\u001b[0;34m.\u001b[0m\u001b[0msend\u001b[0m\u001b[0;34m(\u001b[0m\u001b[0;32mNone\u001b[0m\u001b[0;34m)\u001b[0m\u001b[0;34m\u001b[0m\u001b[0;34m\u001b[0m\u001b[0m\n\u001b[0m\u001b[1;32m     69\u001b[0m     \u001b[0;32mexcept\u001b[0m \u001b[0mStopIteration\u001b[0m \u001b[0;32mas\u001b[0m \u001b[0mexc\u001b[0m\u001b[0;34m:\u001b[0m\u001b[0;34m\u001b[0m\u001b[0;34m\u001b[0m\u001b[0m\n\u001b[1;32m     70\u001b[0m         \u001b[0;32mreturn\u001b[0m \u001b[0mexc\u001b[0m\u001b[0;34m.\u001b[0m\u001b[0mvalue\u001b[0m\u001b[0;34m\u001b[0m\u001b[0;34m\u001b[0m\u001b[0m\n",
      "\u001b[0;32m~/opt/anaconda3/envs/jacked_env/lib/python3.6/site-packages/IPython/core/interactiveshell.py\u001b[0m in \u001b[0;36mrun_cell_async\u001b[0;34m(self, raw_cell, store_history, silent, shell_futures)\u001b[0m\n\u001b[1;32m   3070\u001b[0m \u001b[0;34m\u001b[0m\u001b[0m\n\u001b[1;32m   3071\u001b[0m                 has_raised = await self.run_ast_nodes(code_ast.body, cell_name,\n\u001b[0;32m-> 3072\u001b[0;31m                        interactivity=interactivity, compiler=compiler, result=result)\n\u001b[0m\u001b[1;32m   3073\u001b[0m \u001b[0;34m\u001b[0m\u001b[0m\n\u001b[1;32m   3074\u001b[0m                 \u001b[0mself\u001b[0m\u001b[0;34m.\u001b[0m\u001b[0mlast_execution_succeeded\u001b[0m \u001b[0;34m=\u001b[0m \u001b[0;32mnot\u001b[0m \u001b[0mhas_raised\u001b[0m\u001b[0;34m\u001b[0m\u001b[0;34m\u001b[0m\u001b[0m\n",
      "\u001b[0;32m~/opt/anaconda3/envs/jacked_env/lib/python3.6/site-packages/IPython/core/interactiveshell.py\u001b[0m in \u001b[0;36mrun_ast_nodes\u001b[0;34m(self, nodelist, cell_name, interactivity, compiler, result)\u001b[0m\n\u001b[1;32m   3280\u001b[0m             \u001b[0;32mif\u001b[0m \u001b[0mresult\u001b[0m\u001b[0;34m:\u001b[0m\u001b[0;34m\u001b[0m\u001b[0;34m\u001b[0m\u001b[0m\n\u001b[1;32m   3281\u001b[0m                 \u001b[0mresult\u001b[0m\u001b[0;34m.\u001b[0m\u001b[0merror_before_exec\u001b[0m \u001b[0;34m=\u001b[0m \u001b[0msys\u001b[0m\u001b[0;34m.\u001b[0m\u001b[0mexc_info\u001b[0m\u001b[0;34m(\u001b[0m\u001b[0;34m)\u001b[0m\u001b[0;34m[\u001b[0m\u001b[0;36m1\u001b[0m\u001b[0;34m]\u001b[0m\u001b[0;34m\u001b[0m\u001b[0;34m\u001b[0m\u001b[0m\n\u001b[0;32m-> 3282\u001b[0;31m             \u001b[0mself\u001b[0m\u001b[0;34m.\u001b[0m\u001b[0mshowtraceback\u001b[0m\u001b[0;34m(\u001b[0m\u001b[0;34m)\u001b[0m\u001b[0;34m\u001b[0m\u001b[0;34m\u001b[0m\u001b[0m\n\u001b[0m\u001b[1;32m   3283\u001b[0m             \u001b[0;32mreturn\u001b[0m \u001b[0;32mTrue\u001b[0m\u001b[0;34m\u001b[0m\u001b[0;34m\u001b[0m\u001b[0m\n\u001b[1;32m   3284\u001b[0m \u001b[0;34m\u001b[0m\u001b[0m\n",
      "\u001b[0;32m~/opt/anaconda3/envs/jacked_env/lib/python3.6/site-packages/IPython/core/interactiveshell.py\u001b[0m in \u001b[0;36mshowtraceback\u001b[0;34m(self, exc_tuple, filename, tb_offset, exception_only, running_compiled_code)\u001b[0m\n\u001b[1;32m   2045\u001b[0m                     \u001b[0;32mexcept\u001b[0m \u001b[0mException\u001b[0m\u001b[0;34m:\u001b[0m\u001b[0;34m\u001b[0m\u001b[0;34m\u001b[0m\u001b[0m\n\u001b[1;32m   2046\u001b[0m                         stb = self.InteractiveTB.structured_traceback(etype,\n\u001b[0;32m-> 2047\u001b[0;31m                                             value, tb, tb_offset=tb_offset)\n\u001b[0m\u001b[1;32m   2048\u001b[0m \u001b[0;34m\u001b[0m\u001b[0m\n\u001b[1;32m   2049\u001b[0m                     \u001b[0mself\u001b[0m\u001b[0;34m.\u001b[0m\u001b[0m_showtraceback\u001b[0m\u001b[0;34m(\u001b[0m\u001b[0metype\u001b[0m\u001b[0;34m,\u001b[0m \u001b[0mvalue\u001b[0m\u001b[0;34m,\u001b[0m \u001b[0mstb\u001b[0m\u001b[0;34m)\u001b[0m\u001b[0;34m\u001b[0m\u001b[0;34m\u001b[0m\u001b[0m\n",
      "\u001b[0;32m~/opt/anaconda3/envs/jacked_env/lib/python3.6/site-packages/IPython/core/ultratb.py\u001b[0m in \u001b[0;36mstructured_traceback\u001b[0;34m(self, etype, value, tb, tb_offset, number_of_lines_of_context)\u001b[0m\n\u001b[1;32m   1434\u001b[0m             \u001b[0mself\u001b[0m\u001b[0;34m.\u001b[0m\u001b[0mtb\u001b[0m \u001b[0;34m=\u001b[0m \u001b[0mtb\u001b[0m\u001b[0;34m\u001b[0m\u001b[0;34m\u001b[0m\u001b[0m\n\u001b[1;32m   1435\u001b[0m         return FormattedTB.structured_traceback(\n\u001b[0;32m-> 1436\u001b[0;31m             self, etype, value, tb, tb_offset, number_of_lines_of_context)\n\u001b[0m\u001b[1;32m   1437\u001b[0m \u001b[0;34m\u001b[0m\u001b[0m\n\u001b[1;32m   1438\u001b[0m \u001b[0;34m\u001b[0m\u001b[0m\n",
      "\u001b[0;32m~/opt/anaconda3/envs/jacked_env/lib/python3.6/site-packages/IPython/core/ultratb.py\u001b[0m in \u001b[0;36mstructured_traceback\u001b[0;34m(self, etype, value, tb, tb_offset, number_of_lines_of_context)\u001b[0m\n\u001b[1;32m   1334\u001b[0m             \u001b[0;31m# Verbose modes need a full traceback\u001b[0m\u001b[0;34m\u001b[0m\u001b[0;34m\u001b[0m\u001b[0;34m\u001b[0m\u001b[0m\n\u001b[1;32m   1335\u001b[0m             return VerboseTB.structured_traceback(\n\u001b[0;32m-> 1336\u001b[0;31m                 \u001b[0mself\u001b[0m\u001b[0;34m,\u001b[0m \u001b[0metype\u001b[0m\u001b[0;34m,\u001b[0m \u001b[0mvalue\u001b[0m\u001b[0;34m,\u001b[0m \u001b[0mtb\u001b[0m\u001b[0;34m,\u001b[0m \u001b[0mtb_offset\u001b[0m\u001b[0;34m,\u001b[0m \u001b[0mnumber_of_lines_of_context\u001b[0m\u001b[0;34m\u001b[0m\u001b[0;34m\u001b[0m\u001b[0m\n\u001b[0m\u001b[1;32m   1337\u001b[0m             )\n\u001b[1;32m   1338\u001b[0m         \u001b[0;32melif\u001b[0m \u001b[0mmode\u001b[0m \u001b[0;34m==\u001b[0m \u001b[0;34m'Minimal'\u001b[0m\u001b[0;34m:\u001b[0m\u001b[0;34m\u001b[0m\u001b[0;34m\u001b[0m\u001b[0m\n",
      "\u001b[0;32m~/opt/anaconda3/envs/jacked_env/lib/python3.6/site-packages/IPython/core/ultratb.py\u001b[0m in \u001b[0;36mstructured_traceback\u001b[0;34m(self, etype, evalue, etb, tb_offset, number_of_lines_of_context)\u001b[0m\n\u001b[1;32m   1209\u001b[0m         \u001b[0;32mwhile\u001b[0m \u001b[0mevalue\u001b[0m\u001b[0;34m:\u001b[0m\u001b[0;34m\u001b[0m\u001b[0;34m\u001b[0m\u001b[0m\n\u001b[1;32m   1210\u001b[0m             formatted_exceptions += self.format_exception_as_a_whole(etype, evalue, etb, lines_of_context,\n\u001b[0;32m-> 1211\u001b[0;31m                                                                      chained_exceptions_tb_offset)\n\u001b[0m\u001b[1;32m   1212\u001b[0m             \u001b[0mexception\u001b[0m \u001b[0;34m=\u001b[0m \u001b[0mself\u001b[0m\u001b[0;34m.\u001b[0m\u001b[0mget_parts_of_chained_exception\u001b[0m\u001b[0;34m(\u001b[0m\u001b[0mevalue\u001b[0m\u001b[0;34m)\u001b[0m\u001b[0;34m\u001b[0m\u001b[0;34m\u001b[0m\u001b[0m\n\u001b[1;32m   1213\u001b[0m \u001b[0;34m\u001b[0m\u001b[0m\n",
      "\u001b[0;32m~/opt/anaconda3/envs/jacked_env/lib/python3.6/site-packages/IPython/core/ultratb.py\u001b[0m in \u001b[0;36mformat_exception_as_a_whole\u001b[0;34m(self, etype, evalue, etb, number_of_lines_of_context, tb_offset)\u001b[0m\n\u001b[1;32m   1148\u001b[0m \u001b[0;34m\u001b[0m\u001b[0m\n\u001b[1;32m   1149\u001b[0m \u001b[0;34m\u001b[0m\u001b[0m\n\u001b[0;32m-> 1150\u001b[0;31m         \u001b[0mlast_unique\u001b[0m\u001b[0;34m,\u001b[0m \u001b[0mrecursion_repeat\u001b[0m \u001b[0;34m=\u001b[0m \u001b[0mfind_recursion\u001b[0m\u001b[0;34m(\u001b[0m\u001b[0morig_etype\u001b[0m\u001b[0;34m,\u001b[0m \u001b[0mevalue\u001b[0m\u001b[0;34m,\u001b[0m \u001b[0mrecords\u001b[0m\u001b[0;34m)\u001b[0m\u001b[0;34m\u001b[0m\u001b[0;34m\u001b[0m\u001b[0m\n\u001b[0m\u001b[1;32m   1151\u001b[0m \u001b[0;34m\u001b[0m\u001b[0m\n\u001b[1;32m   1152\u001b[0m         \u001b[0mframes\u001b[0m \u001b[0;34m=\u001b[0m \u001b[0mself\u001b[0m\u001b[0;34m.\u001b[0m\u001b[0mformat_records\u001b[0m\u001b[0;34m(\u001b[0m\u001b[0mrecords\u001b[0m\u001b[0;34m,\u001b[0m \u001b[0mlast_unique\u001b[0m\u001b[0;34m,\u001b[0m \u001b[0mrecursion_repeat\u001b[0m\u001b[0;34m)\u001b[0m\u001b[0;34m\u001b[0m\u001b[0;34m\u001b[0m\u001b[0m\n",
      "\u001b[0;32m~/opt/anaconda3/envs/jacked_env/lib/python3.6/site-packages/IPython/core/ultratb.py\u001b[0m in \u001b[0;36mfind_recursion\u001b[0;34m(etype, value, records)\u001b[0m\n\u001b[1;32m    449\u001b[0m     \u001b[0;31m# first frame (from in to out) that looks different.\u001b[0m\u001b[0;34m\u001b[0m\u001b[0;34m\u001b[0m\u001b[0;34m\u001b[0m\u001b[0m\n\u001b[1;32m    450\u001b[0m     \u001b[0;32mif\u001b[0m \u001b[0;32mnot\u001b[0m \u001b[0mis_recursion_error\u001b[0m\u001b[0;34m(\u001b[0m\u001b[0metype\u001b[0m\u001b[0;34m,\u001b[0m \u001b[0mvalue\u001b[0m\u001b[0;34m,\u001b[0m \u001b[0mrecords\u001b[0m\u001b[0;34m)\u001b[0m\u001b[0;34m:\u001b[0m\u001b[0;34m\u001b[0m\u001b[0;34m\u001b[0m\u001b[0m\n\u001b[0;32m--> 451\u001b[0;31m         \u001b[0;32mreturn\u001b[0m \u001b[0mlen\u001b[0m\u001b[0;34m(\u001b[0m\u001b[0mrecords\u001b[0m\u001b[0;34m)\u001b[0m\u001b[0;34m,\u001b[0m \u001b[0;36m0\u001b[0m\u001b[0;34m\u001b[0m\u001b[0;34m\u001b[0m\u001b[0m\n\u001b[0m\u001b[1;32m    452\u001b[0m \u001b[0;34m\u001b[0m\u001b[0m\n\u001b[1;32m    453\u001b[0m     \u001b[0;31m# Select filename, lineno, func_name to track frames with\u001b[0m\u001b[0;34m\u001b[0m\u001b[0;34m\u001b[0m\u001b[0;34m\u001b[0m\u001b[0m\n",
      "\u001b[0;31mTypeError\u001b[0m: object of type 'NoneType' has no len()"
     ]
    }
   ],
   "source": [
    "# tool.run(seed = 142)"
   ]
  },
  {
   "cell_type": "markdown",
   "id": "b716a87c-5b13-428c-bfca-b417bff801a6",
   "metadata": {},
   "source": [
    "Or if you want multiple simulatiously, just run:"
   ]
  },
  {
   "cell_type": "code",
   "execution_count": null,
   "id": "05e65d17-0a3c-4881-b73d-9febd5b03857",
   "metadata": {},
   "outputs": [],
   "source": [
    "tool.run(samples = 3, seed = 242)"
   ]
  },
  {
   "cell_type": "markdown",
   "id": "99d064f4-c7bd-479a-a931-a400fdfb784f",
   "metadata": {},
   "source": [
    "Done :)"
   ]
  },
  {
   "cell_type": "markdown",
   "id": "96d3f5f0-af41-4068-a634-0b9b88e5be74",
   "metadata": {},
   "source": [
    "## Image the data"
   ]
  },
  {
   "cell_type": "markdown",
   "id": "abe8995f-a66a-4fae-bb75-b6d36ae3ecad",
   "metadata": {},
   "source": [
    "To double check if everything went correctly, we build in some original plotting functions you can use to visualize the data."
   ]
  },
  {
   "cell_type": "code",
   "execution_count": null,
   "id": "89d72084-d0d7-40f3-aac9-da7f1de27302",
   "metadata": {},
   "outputs": [],
   "source": [
    "out_file = tool.vis_jacked.replace('.ms','.im.fits') # get the file name of the created noise cube"
   ]
  },
  {
   "cell_type": "code",
   "execution_count": null,
   "id": "7ad42ab7-b72b-4cd7-93a2-7efc38ce1ec8",
   "metadata": {},
   "outputs": [],
   "source": []
  },
  {
   "cell_type": "code",
   "execution_count": null,
   "id": "551275b8-cd48-4aab-a915-f72f031cd4f7",
   "metadata": {},
   "outputs": [],
   "source": []
  },
  {
   "cell_type": "code",
   "execution_count": null,
   "id": "0427f33d-ac7e-4f4b-9836-5413ecf3c34d",
   "metadata": {},
   "outputs": [],
   "source": []
  },
  {
   "cell_type": "code",
   "execution_count": null,
   "id": "d13ea98d-a7f0-47b0-8091-a393347fa0e9",
   "metadata": {},
   "outputs": [],
   "source": []
  },
  {
   "cell_type": "code",
   "execution_count": null,
   "id": "1c982a22-d764-49ca-9d37-935d2e3971dc",
   "metadata": {},
   "outputs": [],
   "source": []
  },
  {
   "cell_type": "code",
   "execution_count": null,
   "id": "7480d383-6f56-4665-9a42-23bf2ce92f75",
   "metadata": {},
   "outputs": [],
   "source": []
  },
  {
   "cell_type": "code",
   "execution_count": null,
   "id": "ed122428-0fb7-43cf-b4a6-fb611934a69d",
   "metadata": {},
   "outputs": [],
   "source": []
  },
  {
   "cell_type": "code",
   "execution_count": null,
   "id": "6236a5d6-4270-4fe8-8388-04dc14c551b4",
   "metadata": {},
   "outputs": [],
   "source": []
  },
  {
   "cell_type": "code",
   "execution_count": null,
   "id": "f46a286c-028e-4835-927c-e1b67636230c",
   "metadata": {},
   "outputs": [],
   "source": []
  },
  {
   "cell_type": "code",
   "execution_count": null,
   "id": "73ea7c12-77f4-4989-a708-c08fbb223ff2",
   "metadata": {},
   "outputs": [],
   "source": []
  },
  {
   "cell_type": "code",
   "execution_count": null,
   "id": "800192c8-07e9-466b-aee8-c9563333f401",
   "metadata": {},
   "outputs": [],
   "source": []
  },
  {
   "cell_type": "code",
   "execution_count": null,
   "id": "2587096c-fd5e-4565-a863-dd75edef1970",
   "metadata": {},
   "outputs": [],
   "source": []
  },
  {
   "cell_type": "code",
   "execution_count": null,
   "id": "7e76b324-45cc-4288-b966-d1c695fa5e6b",
   "metadata": {},
   "outputs": [],
   "source": []
  },
  {
   "cell_type": "code",
   "execution_count": null,
   "id": "947f52c3-10eb-44eb-9eb6-327bca17d9ff",
   "metadata": {},
   "outputs": [],
   "source": []
  },
  {
   "cell_type": "code",
   "execution_count": null,
   "id": "4dc9563f-57b5-46d3-9436-a30941e03e79",
   "metadata": {},
   "outputs": [],
   "source": []
  },
  {
   "cell_type": "code",
   "execution_count": null,
   "id": "0b7f38f9-fece-4272-8a3b-3864100c6c3a",
   "metadata": {},
   "outputs": [],
   "source": []
  },
  {
   "cell_type": "code",
   "execution_count": null,
   "id": "11d2602e-1475-4d69-b46d-a2af0a9d7b3f",
   "metadata": {},
   "outputs": [],
   "source": [
    "from casatasks import tclean, exportfits, immoments\n",
    "\n",
    "from jacked.ImSettings import Imparams\n",
    "Imcase = Imparams(config = 'C7', band = 'Band7') # automatically defines the image size and the cell size"
   ]
  },
  {
   "cell_type": "code",
   "execution_count": null,
   "id": "39111e7b-14fd-41a0-9f3a-dae4025936f8",
   "metadata": {},
   "outputs": [],
   "source": [
    "path_to_data = '../data/'\n",
    "path_to_output = '../output/'\n",
    "name_of_obss = 'Glass-z13_target_concat_tbin30s_cwidth38MHz_60spw.ms'\n",
    "\n",
    "outfile = path_to_output + name_of_obss\n",
    "\n",
    "tclean(vis         = path_to_data + name_of_obss,\n",
    "       imagename   = outfile.replace('.ms', '.im'),\n",
    "       specmode    = 'cube',\n",
    "       deconvolver = 'hogbom',\n",
    "       gridder     = 'standard',\n",
    "       imsize      = Imcase.imsize,\n",
    "       cell        = Imcase.cellsize,\n",
    "       reffreq     = '254.35GHz',\n",
    "       weighting   = 'natural',\n",
    "       niter       = 0,\n",
    "       interactive = False,\n",
    "       )\n",
    "\n",
    "exportfits(imagename   = outfile.replace('.ms', '.im.image'),\n",
    "           fitsimage   = outfile.replace('.ms', '.im.fits'),\n",
    "           overwrite   = True\n",
    "          )"
   ]
  },
  {
   "cell_type": "code",
   "execution_count": null,
   "id": "b5283adf-40b4-46b6-8fff-373e0131b4dc",
   "metadata": {},
   "outputs": [],
   "source": [
    "fname = outfile.replace('.ms', 'line.im.fits')\n",
    "hdu = fits.open(outfile.replace('.ms', 'line.im.fits'))\n",
    "cube = hdu[0].data[0]"
   ]
  },
  {
   "cell_type": "code",
   "execution_count": null,
   "id": "7586b0ad-31e0-4099-b872-4c976aea4e2f",
   "metadata": {},
   "outputs": [],
   "source": [
    "freqs = np.arange(len(cube))*hdu[0].header['CDELT3'] + hdu[0].header['CRVAL3']\n",
    "velos = (freqs-254.35e9)/254.35e9*const.c.to(u.km/u.s).value\n",
    "\n",
    "index = np.argmin(np.abs(velos))\n",
    "moment0 = np.sum(cube[index-8:index+8], axis = 0)"
   ]
  },
  {
   "cell_type": "markdown",
   "id": "63ae78d3-5c3e-4565-b4ed-d589cdc2e266",
   "metadata": {},
   "source": [
    "# Image Data"
   ]
  },
  {
   "cell_type": "markdown",
   "id": "9a7f483f-4498-4a32-8fb4-616502dd0ed9",
   "metadata": {},
   "source": [
    "## Moment-0"
   ]
  },
  {
   "cell_type": "code",
   "execution_count": null,
   "id": "ad5162d5-2949-4e6c-a202-4e1ee160e337",
   "metadata": {},
   "outputs": [],
   "source": [
    "def plot(fits_file, box_size_arcsec, center_coord, index):\n",
    "    \"\"\"\n",
    "    Plots a FITS file image with WCS coordinates for the axes in RA and DEC.\n",
    "    Allows zooming in to a specified box size in arcseconds centered on a given coordinate.\n",
    "\n",
    "    Parameters:\n",
    "    fits_file (str): Path to the FITS file.\n",
    "    box_size_arcsec (float): Size of the box to display in arcseconds.\n",
    "    center_coord (tuple): (RA, DEC) coordinates to center the zoom-in region.\n",
    "    \"\"\"\n",
    "    # Open the FITS file\n",
    "    with fits.open(fits_file) as hdul:\n",
    "        # Get the data from the first HDU\n",
    "        data = hdul[0].data\n",
    "        data = np.sum(data[0,index[0]:index[1]], axis=0)*1e3\n",
    "        \n",
    "        # Get the WCS information from the header\n",
    "        wcs = WCS(hdul[0].header, naxis = 2)\n",
    "        \n",
    "        beam_major = np.average(hdu[1].data['BMAJ'])  # arcseconds\n",
    "        beam_minor = np.average(hdu[1].data['BMIN'])  # arcseconds\n",
    "        beam_pa = np.average(hdu[1].data['BPA'])  # Position angle in degrees\n",
    "\n",
    "    \n",
    "    # Convert the center coordinates from (RA, DEC) to pixel values\n",
    "    center_x, center_y = wcs.world_to_pixel_values(center_coord[0], center_coord[1])\n",
    "    \n",
    "    # Convert box size from arcseconds to pixels\n",
    "    pix_scale_x = np.abs(wcs.wcs.cdelt[0]) * 3600  # arcsec per pixel in x direction\n",
    "    pix_scale_y = np.abs(wcs.wcs.cdelt[1]) * 3600  # arcsec per pixel in y direction\n",
    "    \n",
    "    box_size_x_pix = box_size_arcsec / pix_scale_x\n",
    "    box_size_y_pix = box_size_arcsec / pix_scale_y\n",
    "    \n",
    "    # Determine the bounding box in pixel coordinates\n",
    "    x_min = int(center_x - box_size_x_pix / 2)\n",
    "    x_max = int(center_x + box_size_x_pix / 2)\n",
    "    y_min = int(center_y - box_size_y_pix / 2)\n",
    "    y_max = int(center_y + box_size_y_pix / 2)\n",
    "    \n",
    "    # Estimate the standard deviation outside the bounding box\n",
    "    mask = np.ones(data.shape, dtype=bool)\n",
    "    mask[y_min:y_max, x_min:x_max] = False\n",
    "    std_dev = np.nanstd(data[mask])\n",
    "\n",
    "    # Crop the data to the bounding box\n",
    "    cropped_data = data[y_min:y_max, x_min:x_max]\n",
    "\n",
    "    # Adjust WCS for the cropped image\n",
    "    cropped_wcs = wcs[y_min:y_max, x_min:x_max]\n",
    "\n",
    "    # Plot the cropped image with WCS projection\n",
    "    fig, ax = plt.subplots(subplot_kw={'projection': cropped_wcs}, figsize=(10,8))\n",
    "    im = ax.imshow(data[y_min:y_max, x_min:x_max], origin='lower', cmap='RdBu_r', vmin = np.nanmin(data), vmax = -1*np.nanmin(data))\n",
    "    ax.set_xlabel('RA (J2000)')\n",
    "    ax.set_ylabel('DEC (J2000)')\n",
    "    \n",
    "    # Plot contours based on the estimated standard deviation\n",
    "    levels = [-3*std_dev, -2*std_dev,-1*std_dev, std_dev, 2*std_dev, 3*std_dev]  # Example contour levels\n",
    "    ax.contour(cropped_data, levels=levels, colors='k', alpha=0.7)\n",
    "    \n",
    "    # Add a colorbar\n",
    "    cbar = plt.colorbar(im, ax=ax, orientation='vertical')\n",
    "    cbar.set_label(r'$S_{\\nu}$ [mJy/Beam km/s]')\n",
    "\n",
    "    # Plot the beam size in the lower right corner\n",
    "    beam_major_pix = beam_major / pix_scale_x\n",
    "    beam_minor_pix = beam_minor / pix_scale_y    \n",
    "    beam = Ellipse((10, 10), width=beam_minor_pix, height=beam_major_pix,\n",
    "                   angle=beam_pa, color='gray', fill='//')\n",
    "    ax.add_patch(beam)\n",
    "    \n",
    "    # Plot a cross at the center coordinates\n",
    "    c = SkyCoord(center_coord[0], center_coord[1], frame='icrs', unit='deg')\n",
    "    center_x, center_y = cropped_wcs.world_to_pixel(c)\n",
    "    \n",
    "    ax.scatter(center_x, center_y, color='goldenrod', marker ='x', s = 100)\n",
    "    # ax.scatter(center_coord[0], center_coord[1], color='goldenrod', marker ='x')\n",
    "    plt.show()"
   ]
  },
  {
   "cell_type": "code",
   "execution_count": null,
   "id": "8b6d31d8-5e1a-486c-b8c8-f07f1f737fb7",
   "metadata": {},
   "outputs": [],
   "source": [
    "fname = '../output/cleaned/Glass-z13_target_concat_tbin30s_cwidth38MHz_60spw_contsubline.im.fits'\n",
    "plot_fits_image_with_wcs(fname, 4, (3.498985, -30.324767), (index-5, index+5))  # Replace with your FITS file path, desired box size in arcseconds, and center coordinates (RA, DEC)"
   ]
  },
  {
   "cell_type": "code",
   "execution_count": null,
   "id": "e42053c2-3328-42c7-b8bd-e3428b359e5b",
   "metadata": {},
   "outputs": [],
   "source": [
    "fname = '../output/cleaned/Glass-z13_target_concat_tbin30s_cwidth38MHz_60spwline.im.fits'\n",
    "plot_fits_image_with_wcs(fname, 4, (3.498985, -30.324767),  (index-5, index+5))  # Replace with your FITS file path, desired box size in arcseconds, and center coordinates (RA, DEC)"
   ]
  },
  {
   "cell_type": "markdown",
   "id": "1758db97-0cba-48e9-9099-02c96adff489",
   "metadata": {},
   "source": [
    "## SLP"
   ]
  },
  {
   "cell_type": "code",
   "execution_count": null,
   "id": "5ac27b9a-ccd7-4049-b2bd-ce0763980f3b",
   "metadata": {},
   "outputs": [],
   "source": [
    "class SLP():\n",
    "    \"\"\"\n",
    "    A class that manages cleaned data cubes and estiamtes the spectral line profile of that cube given a mask to sum over\n",
    "    Input:\n",
    "        cube (channel, image, image): Cleaned data in units of Jy/pixel\n",
    "        mask (image, image): A mask that matches the size of the image. The mask is used to some over the pixels.\n",
    "    Output (with function execute):\n",
    "        slp (len(channels)): Intensity, units of Jy.\n",
    "        bootstrap_std: bootstrapped std in units of Jy. \n",
    "    \n",
    "    \"\"\"\n",
    "    \n",
    "    def __init__(self, cube, mask, amount = 200, visualize = False):\n",
    "        self.visualize = visualize\n",
    "        self.cube   = cube\n",
    "        self.mask   = mask\n",
    "        self.amount = amount\n",
    "        \n",
    "        xx, yy         = np.meshgrid(np.arange(0,self.cube.shape[-2], 1), np.arange(0, self.cube.shape[-1],1))\n",
    "        self.CoM_mask  =  (np.mean(xx[self.mask]), np.mean(yy[self.mask]))\n",
    "        self.rr        = ((xx-self.CoM_mask[0])**2 + (yy-self.CoM_mask[1])**2)**0.5\n",
    "        \n",
    "        self.mask_size = int(np.sum(self.mask)**0.5+0.1*self.cube.shape[-2]) # --> quick fix\n",
    "\n",
    "    def _position(self):\n",
    "\n",
    "        r =  np.sqrt(np.random.uniform(0.1,1, size = self.amount))\n",
    "        theta = np.random.uniform(0,1, size = self.amount) * 2 * np.pi\n",
    "\n",
    "        x = self.CoM_mask[0] + self.cube.shape[1]/3 *r* np.cos(theta) #hard coded\n",
    "        y = self.CoM_mask[1] + self.cube.shape[1]/3 *r* np.sin(theta) #hard coded\n",
    "        \n",
    "        pos = np.array([x,y], dtype = np.int).T\n",
    "        return np.vstack(([int(self.CoM_mask[0]), int(self.CoM_mask[1])], pos))\n",
    "\n",
    "    def _make_mask(self, pos):\n",
    "        new_masks = np.zeros((len(pos[1:]),self.im.shape[-2], self.im.shape[-1]))\n",
    "        for idx, xy in enumerate(pos[1:]):\n",
    "            new_masks[idx, \n",
    "                      xy[0]-self.mask_size//2:xy[0]+self.mask_size//2, \n",
    "                      xy[1]-self.mask_size//2:xy[1]+self.mask_size//2] = self.mask[pos[0][0]-self.mask_size//2:pos[0][0]+self.mask_size//2, \n",
    "                                                                                   pos[0][1]-self.mask_size//2:pos[0][1]+self.mask_size//2]\n",
    "            \n",
    "            \n",
    "        return new_masks.astype(bool)  \n",
    "    \n",
    "    def _estimates(self, new_masks):\n",
    "        estimates = []\n",
    "        for m in new_masks:\n",
    "            estimates.append(np.sum(self.im[m]))\n",
    "        return np.nanstd(estimates), np.nanmean(estimates)\n",
    "    \n",
    "    def _visualize(self, masks):\n",
    "        for idx, m in enumerate(masks):\n",
    "            clear_output(True)\n",
    "            plt.imshow(m, origin='lower')\n",
    "            plt.show()\n",
    "            if idx>30: break\n",
    "    \n",
    "    def execute(self):\n",
    "\n",
    "        bootstrap_std = []\n",
    "        bootstrap_means = []\n",
    "        for i in tqdm(range(len(self.cube))):\n",
    "            self.im = self.cube[i]\n",
    "            pos     = self._position()\n",
    "            masks   = self._make_mask(pos)            \n",
    "\n",
    "            std, mean = self._estimates(masks)\n",
    "            bootstrap_std.append(std)\n",
    "            bootstrap_means.append(mean)\n",
    "            \n",
    "        if self.visualize: self._visualize(masks)\n",
    "\n",
    "        return np.array(bootstrap_std), np.array(bootstrap_means)"
   ]
  },
  {
   "cell_type": "code",
   "execution_count": null,
   "id": "1bb8a0ba-f0a5-40e9-85c8-86a5291d884c",
   "metadata": {},
   "outputs": [],
   "source": [
    "def circle_mask(im, xc, yc, rcirc):\n",
    "        ny, nx = im.shape\n",
    "        y,x = np.mgrid[0:nx,0:ny]\n",
    "        r = np.sqrt((x-xc)*(x-xc) + (y-yc)*(y-yc))\n",
    "        return ( (r < rcirc))\n",
    "\n",
    "def ellipsoid_mask(im, xc, yc, a, b, Theta):\n",
    "    ny, nx = im.shape\n",
    "    y,x = np.mgrid[0:nx,0:ny]\n",
    "    e = (((x-xc) * np.cos(Theta) + (y - yc)*np.sin(Theta))**2)/a**2 +  (((x-xc) * np.sin(Theta) - (y - yc)*np.cos(Theta))**2)/b**2\n",
    "    return (e<=1)"
   ]
  },
  {
   "cell_type": "code",
   "execution_count": null,
   "id": "3534c314-a487-4c0b-aa90-18fd3acda7f4",
   "metadata": {},
   "outputs": [],
   "source": [
    "# fname = '../output/cleaned/Glass-z13_target_concat_tbin30s_cwidth38MHz_60spwline.im.fits'\n",
    "\n",
    "# # Load in Cube\n",
    "# # ------------\n",
    "# cube, header = fits.getdata(fname, header = True)\n",
    "\n",
    "# BMAJ = np.average(hdu[1].data['BMAJ'])/3600  # degrees\n",
    "# BMIN = np.average(hdu[1].data['BMIN'])/3600  # degrees\n",
    "# BPA = np.average(hdu[1].data['BPA'])  # Position angle in degrees\n",
    "\n",
    "# pixel_size = header['CDELT1']\n",
    "# Dfreq    = header['CDELT3']\n",
    "# restfreq = header['CRVAL3']\n",
    "\n",
    "# BeamArea     = np.pi *BMIN*BMAJ/pixel_size**2/(4*np.log(2))   # pixels per beam \n",
    "# cube         = cube[0]/BeamArea*1e3                           # mJy/pixel\n",
    "\n",
    "# mask = ellipsoid_mask(cube[0], \n",
    "#                       len(cube[0])//2, \n",
    "#                       len(cube[0])//2, \n",
    "#                       BMIN/pixel_size, \n",
    "#                       BMAJ/pixel_size, \n",
    "#                       np.deg2rad(BPA))\n",
    "\n",
    "\n",
    "# xaxis      = (np.arange(len(cube))*Dfreq + restfreq)/1e9    \n",
    "# slp        = np.nansum(cube[:, mask], axis = 1)\n",
    "# normal_std = np.nanstd(cube[:,~mask], axis = 1) * np.sqrt(np.sum(mask))\n",
    "# mask = ellipsoid_mask(cube[0], \n",
    "#                       len(cube[0])//2, \n",
    "#                       len(cube[0])//2, \n",
    "#                       BMIN/pixel_size, \n",
    "#                       BMAJ/pixel_size, \n",
    "#                       np.deg2rad(BPA))\n",
    "\n",
    "# obj                           = SLP(cube, mask, amount = 1000, visualize=False)\n",
    "# bootstrap_std, bootstrap_mean = obj.execute()\n",
    "\n",
    "# # Visualize SLP\n",
    "# # -----------------\n",
    "# fig, ax = plt.subplots(2,1, sharex=True, figsize=(8,6), gridspec_kw={'height_ratios': [2, 1]})\n",
    "\n",
    "# ax[0].step(xaxis, slp/bootstrap_std, label = 'Central Beam', c = 'C0')\n",
    "# ax[0].axhline(0, c='gray', ls='--')\n",
    "# ax[0].set_xlim(xmin = xaxis[0], xmax = xaxis[-1])\n",
    "# ax[0].set_ylim(ymin =-2.5, ymax = 3.5)\n",
    "# ax[0].set_ylabel('SNR')\n",
    "# ax[0].legend(loc = 1, frameon=False)\n",
    "# ax[0].axvline(254.35, c = 'k')\n",
    "\n",
    "# # ax[1].step(xaxis, normal_std, label='conventional image')\n",
    "# ax[1].step(xaxis, bootstrap_std, label='bootstrap', c = 'C1')\n",
    "# ax[1].axhline(np.nanstd(slp), label='std spectral', c='k', alpha = 0.6)    \n",
    "\n",
    "# ax[1].set_xlim(xmin = xaxis[0], xmax = xaxis[-1])\n",
    "# ax[1].set_ylim(ymin = 0.15, ymax = 0.25)\n",
    "# ax[1].set_xlabel('Freq [GHz]')\n",
    "# ax[1].set_ylabel('mJy')\n",
    "# ax[1].legend(loc = 1, frameon=False)\n",
    "\n",
    "# plt.tight_layout()\n",
    "# plt.show()"
   ]
  },
  {
   "cell_type": "code",
   "execution_count": null,
   "id": "72913ba0-2ae8-495c-832b-b2511eb84964",
   "metadata": {},
   "outputs": [],
   "source": [
    "# fname = '../output/cleaned/Glass-z13_target_concat_tbin30s_cwidth38MHz_60spw_contsubline.im.fits'\n",
    "\n",
    "# # Load in Cube\n",
    "# # ------------\n",
    "# cube, header = fits.getdata(fname, header = True)\n",
    "\n",
    "# BMAJ = np.average(hdu[1].data['BMAJ'])/3600  # degrees\n",
    "# BMIN = np.average(hdu[1].data['BMIN'])/3600  # degrees\n",
    "# BPA = np.average(hdu[1].data['BPA'])  # Position angle in degrees\n",
    "\n",
    "# pixel_size = header['CDELT1']\n",
    "# Dfreq    = header['CDELT3']\n",
    "# restfreq = header['CRVAL3']\n",
    "\n",
    "# BeamArea     = np.pi *BMIN*BMAJ/pixel_size**2/(4*np.log(2))   # pixels per beam \n",
    "# cube         = cube[0]/BeamArea*1e3                           # mJy/pixel\n",
    "\n",
    "# mask = ellipsoid_mask(cube[0], \n",
    "#                       len(cube[0])//2, \n",
    "#                       len(cube[0])//2, \n",
    "#                       BMIN/pixel_size, \n",
    "#                       BMAJ/pixel_size, \n",
    "#                       np.deg2rad(BPA))\n",
    "\n",
    "\n",
    "# xaxis      = (np.arange(len(cube))*Dfreq + restfreq)/1e9    \n",
    "# slp        = np.nansum(cube[:, mask], axis = 1)\n",
    "# normal_std = np.nanstd(cube[:,~mask], axis = 1) * np.sqrt(np.sum(mask))\n",
    "# mask = ellipsoid_mask(cube[0], \n",
    "#                       len(cube[0])//2, \n",
    "#                       len(cube[0])//2, \n",
    "#                       BMIN/pixel_size, \n",
    "#                       BMAJ/pixel_size, \n",
    "#                       np.deg2rad(BPA))\n",
    "\n",
    "# obj                           = SLP(cube, mask, amount = 1000, visualize=False)\n",
    "# bootstrap_std, bootstrap_mean = obj.execute()\n",
    "\n",
    "# # Visualize SLP\n",
    "# # -----------------\n",
    "# fig, ax = plt.subplots(2,1, sharex=True, figsize=(8,6), gridspec_kw={'height_ratios': [2, 1]})\n",
    "\n",
    "# ax[0].step(xaxis, slp/bootstrap_std, label = 'Central Beam', c = 'C0')\n",
    "# ax[0].axhline(0, c='gray', ls='--')\n",
    "# ax[0].set_xlim(xmin = xaxis[0], xmax = xaxis[-1])\n",
    "# ax[0].set_ylim(ymin =-2.5, ymax = 3.5)\n",
    "# ax[0].set_ylabel('SNR')\n",
    "# ax[0].legend(loc = 1, frameon=False)\n",
    "# ax[0].axvline(254.35, c = 'k')\n",
    "\n",
    "# # ax[1].step(xaxis, normal_std, label='conventional image')\n",
    "# ax[1].step(xaxis, bootstrap_std, label='bootstrap', c = 'C1')\n",
    "# ax[1].axhline(np.nanstd(slp), label='std spectral', c='k', alpha = 0.6)    \n",
    "\n",
    "# ax[1].set_xlim(xmin = xaxis[0], xmax = xaxis[-1])\n",
    "# ax[1].set_ylim(ymin = 0.15, ymax = 0.25)\n",
    "# ax[1].set_xlabel('Freq [GHz]')\n",
    "# ax[1].set_ylabel('mJy')\n",
    "# ax[1].legend(loc = 1, frameon=False)\n",
    "\n",
    "# plt.tight_layout()\n",
    "# plt.show()"
   ]
  },
  {
   "cell_type": "markdown",
   "id": "5b916951-4e36-4714-8e47-76b730c99712",
   "metadata": {},
   "source": [
    "# Jacked version"
   ]
  },
  {
   "cell_type": "code",
   "execution_count": null,
   "id": "5670b70e-ccef-46ae-ac6a-b60782bc1565",
   "metadata": {},
   "outputs": [],
   "source": [
    "plot_fits_image_with_wcs(fits_file, 4, (3.498985, -30.324767),  (index-5, index+5))  # Replace with your FITS file path, desired box size in arcseconds, and center coordinates (RA, DEC)\n",
    "direc = './output/C7/model/'\n",
    "fits_files = os.listdir(direc)"
   ]
  },
  {
   "cell_type": "code",
   "execution_count": null,
   "id": "b4d2ca74-0b29-4cb3-97c1-8f9bd8e83aeb",
   "metadata": {},
   "outputs": [],
   "source": [
    "for f in fits_files:\n",
    "    if f.endswith('.fits'):\n",
    "        plot_fits_image_with_wcs(direc+f, 4, (3.498985, -30.324767),  (index-5, index+5))  # Replace with your FITS file path, desired box size in arcseconds, and center coordinates (RA, DEC)"
   ]
  },
  {
   "cell_type": "markdown",
   "id": "09e706f7-a5e6-4850-8720-4a8a1f9cb705",
   "metadata": {},
   "source": [
    "# Line Finder"
   ]
  },
  {
   "cell_type": "code",
   "execution_count": null,
   "id": "4a843d90-5834-46cd-ad2d-bcbf921be43e",
   "metadata": {},
   "outputs": [],
   "source": []
  },
  {
   "cell_type": "code",
   "execution_count": null,
   "id": "8321e310-5173-4efc-bb2d-9f72343629d0",
   "metadata": {},
   "outputs": [],
   "source": []
  }
 ],
 "metadata": {
  "kernelspec": {
   "display_name": "jacked_kernel",
   "language": "python",
   "name": "jacked_kernel"
  },
  "language_info": {
   "codemirror_mode": {
    "name": "ipython",
    "version": 3
   },
   "file_extension": ".py",
   "mimetype": "text/x-python",
   "name": "python",
   "nbconvert_exporter": "python",
   "pygments_lexer": "ipython3",
   "version": "3.6.13"
  }
 },
 "nbformat": 4,
 "nbformat_minor": 5
}
