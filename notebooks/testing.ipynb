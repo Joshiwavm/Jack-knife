{
 "cells": [
  {
   "cell_type": "code",
   "execution_count": 1,
   "id": "cd3b9a91-bf38-408b-895d-49bbfa93de84",
   "metadata": {},
   "outputs": [],
   "source": [
    "import numpy as np\n",
    "import astropy.constants as const\n",
    "from astropy import units as u\n",
    "import matplotlib.pyplot as plt"
   ]
  },
  {
   "cell_type": "code",
   "execution_count": 4,
   "id": "3d2c1dd4-b64b-42bc-904a-7f475507812c",
   "metadata": {},
   "outputs": [],
   "source": [
    "import numpy as np\n"
   ]
  },
  {
   "cell_type": "code",
   "execution_count": 21,
   "id": "de1525b5-e3c2-42a5-8e3a-f76cd1f418c4",
   "metadata": {},
   "outputs": [
    {
     "data": {
      "text/plain": [
       "124"
      ]
     },
     "execution_count": 21,
     "metadata": {},
     "output_type": "execute_result"
    }
   ],
   "source": [
    "n.shape[1]"
   ]
  },
  {
   "cell_type": "code",
   "execution_count": 42,
   "id": "720c8929-e3c9-40df-bd81-c3f480d318d9",
   "metadata": {},
   "outputs": [],
   "source": [
    "n = np.random.normal(size = (1000, 52, 52))\n",
    "s = 5\n",
    "d = n.copy()\n",
    "d[:,n.shape[1]//2, n.shape[1]//2] += s"
   ]
  },
  {
   "cell_type": "code",
   "execution_count": null,
   "id": "241cc5ce-33e4-4526-bc55-2f3395b52d93",
   "metadata": {},
   "outputs": [],
   "source": []
  },
  {
   "cell_type": "code",
   "execution_count": 43,
   "id": "d153930a-f62e-4ecc-b7f3-c00bde79eb50",
   "metadata": {},
   "outputs": [
    {
     "data": {
      "image/png": "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\n",
      "text/plain": [
       "<Figure size 432x288 with 1 Axes>"
      ]
     },
     "metadata": {
      "needs_background": "light"
     },
     "output_type": "display_data"
    }
   ],
   "source": [
    "plt.hist(d.flatten(), bins = 100, density = True)\n",
    "# plt.semilogy()\n",
    "plt.show()"
   ]
  },
  {
   "cell_type": "code",
   "execution_count": 51,
   "id": "bda4e7c3-785e-44b3-bf83-0adbde508fde",
   "metadata": {},
   "outputs": [
    {
     "data": {
      "image/png": "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\n",
      "text/plain": [
       "<Figure size 432x288 with 1 Axes>"
      ]
     },
     "metadata": {
      "needs_background": "light"
     },
     "output_type": "display_data"
    }
   ],
   "source": [
    "plt.hist(d.flatten(), bins = 100, density=True, label = 'noise')\n",
    "plt.hist(d[:,n.shape[1]//2, n.shape[1]//2], bins = 50, density=True, label = 'd=n+s')\n",
    "plt.legend()\n",
    "plt.show()"
   ]
  },
  {
   "cell_type": "markdown",
   "id": "f1da5833-1f20-4ac9-832f-f5c34b9636c5",
   "metadata": {},
   "source": [
    "# test dz"
   ]
  },
  {
   "cell_type": "code",
   "execution_count": null,
   "id": "f9fece3f-9fdf-4f8a-ae8c-5c9e96f26694",
   "metadata": {},
   "outputs": [],
   "source": [
    "dz = 0.02\n",
    "z = 12.33\n",
    "f_e = 3393.01 * u.GHz\n",
    "f_o = f_e/(1+z)\n",
    "df_o = f_o * dz/(1+z)"
   ]
  },
  {
   "cell_type": "code",
   "execution_count": null,
   "id": "8b4251fe-439a-4acd-ae9f-8eb8646b2a13",
   "metadata": {},
   "outputs": [],
   "source": [
    "print(f_o, df_o)"
   ]
  },
  {
   "cell_type": "code",
   "execution_count": null,
   "id": "949c0a6e-b29d-4d8d-9517-41edf2ce9a38",
   "metadata": {},
   "outputs": [],
   "source": []
  },
  {
   "cell_type": "code",
   "execution_count": 3,
   "id": "0e5cb60f-9da8-4a2a-823d-50b5fb00a098",
   "metadata": {},
   "outputs": [],
   "source": [
    "def _round_to_1(x):\n",
    "    return round(x, -int(np.floor(np.log10(abs(x)))))"
   ]
  },
  {
   "cell_type": "code",
   "execution_count": 7,
   "id": "b18e68e8-6d4d-4e79-993e-e768edd750d7",
   "metadata": {},
   "outputs": [
    {
     "data": {
      "text/plain": [
       "1e-05"
      ]
     },
     "execution_count": 7,
     "metadata": {},
     "output_type": "execute_result"
    }
   ],
   "source": [
    "_round_to_1(0.00095e-2)"
   ]
  },
  {
   "cell_type": "markdown",
   "id": "144b3409-7d58-4640-9342-8915a4e74ad3",
   "metadata": {},
   "source": [
    "## Testibg"
   ]
  },
  {
   "cell_type": "code",
   "execution_count": 8,
   "id": "638d940d-d466-4104-8cc1-e6a2acea5bed",
   "metadata": {},
   "outputs": [],
   "source": [
    "class test():\n",
    "    \n",
    "    def hallo(self):\n",
    "        self.hoi = 'hoi'\n",
    "        \n",
    "    def nu(self):\n",
    "        \n",
    "        if not hasattr(self, 'hoi'):\n",
    "            print('error')\n",
    "        "
   ]
  },
  {
   "cell_type": "co