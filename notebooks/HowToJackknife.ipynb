{
 "cells": [
  {
   "cell_type": "markdown",
   "id": "8d971192-2bb5-41c0-b5af-0e87a9e84aa0",
   "metadata": {},
   "source": [
    "# How to:\n",
    "## Jackknife Measurement Sets\n",
    "This tutorial describes how to jack knife measurement sets (ms-files) -- in particular ALMA data -- to create observation-specific noise realizations. We use the `jacked` package to do the interferace with ms-file, split it, and image the visibillities."
   ]
  },
  {
   "cell_type": "code",
   "execution_count": 5,
   "id": "a26759ef-8147-477f-8884-9691d0a5df27",
   "metadata": {},
   "outputs": [],
   "source": [
    "import jacked"
   ]
  },
  {
   "cell_type": "markdown",
   "id": "3db31bb9-8856-4ae3-b3fe-2d0f03185af2",
   "metadata": {},
   "source": [
    "We need to initialize the measurement set, so that python can do the interface."
   ]
  },
  {
   "cell_type": "code",
   "execution_count": 6,
   "id": "5c75dafb-68cb-4e43-87b7-192e3f1c2617",
   "metadata": {
    "tags": []
   },
   "outputs": [],
   "source": [
    "#initilaize\n",
    "tool = jacked.Jack(fname   = '../data/Glass-z13.ms', # The file name of the visibilities, \n",
    "                   outdir  = '../output/', #the directory to save the outputs in\n",
    "                   fields  = ['3'], # Each visibility can have multiple fields, \n",
    "                   spws    = [['0']], # and each field can have multiple spws,\n",
    "                   band    = 'Band7', # Band of the observation,\n",
    "                   array   = 'C7', # which configuration the observation are taken in,\n",
    "                   )"
   ]
  },
  {
   "cell_type": "markdown",
   "id": "ec1a048d-3e9a-4170-82e4-01981c864e11",
   "metadata": {},
   "source": [
    "To creat a Jack knifed measurement set, you simply need to run:"
   ]
  },
  {
   "cell_type": "code",
   "execution_count": null,
   "id": "6620c09e-6489-451b-bee5-8fb5332d2407",
   "metadata": {},
   "outputs": [
    {
     "name": "stderr",
     "output_type": "stream",
     "text": [
      "  0%|          | 0/1 [00:00<?, ?it/s]"
     ]
    },
    {
     "name": "stdout",
     "output_type": "stream",
     "text": [
      ".. Loading in MS\n"
     ]
    }
   ],
   "source": [
    "tool.run(seed = 42)"
   ]
  },
  {
   "cell_type": "markdown",
   "id": "374826cc-c793-43d2-9c64-5eb0ea54a0d2",
   "metadata": {},
   "source": [
    "Want another one? Just run it again, but with another seed:"
   ]
  },
  {
   "cell_type": "code",
   "execution_count": 4,
   "id": "c8cd81f4-b246-4312-99a6-0f0f14eadb16",
   "metadata": {},
   "outputs": [
    {
     "name": "stderr",
     "output_type": "stream",
     "text": [
      "  0%|          | 0/1 [00:00<?, ?it/s]"
     ]
    },
    {
     "name": "stdout",
     "output_type": "stream",
     "text": [
      ".. Loading in MS\n",
      ".. Jack Knife it\n",
      ".. Saving to MS\n"
     ]
    },
    {
     "name": "stderr",
     "output_type": "stream",
     "text": [
      "  0%|          | 0/1 [02:40<?, ?it/s]\n"
     ]
    },
    {
     "ename": "RuntimeError",
     "evalue": "RegularFile: /Users/jvanmarr/Documents/GitHub/Jack-knife/output/ms_files/Glass-z13.ms/table.f21 does not exist and cannot be created",
     "output_type": "error",
     "traceback": [
      "\u001b[0;31m---------------------------------------------------------------------------\u001b[0m",
      "\u001b[0;31mRuntimeError\u001b[0m                              Traceback (most recent call last)",
      "\u001b[0;32m<ipython-input-4-760429fedd64>\u001b[0m in \u001b[0;36m<module>\u001b[0;34m\u001b[0m\n\u001b[0;32m----> 1\u001b[0;31m \u001b[0mtool\u001b[0m\u001b[0;34m.\u001b[0m\u001b[0mrun\u001b[0m\u001b[0;34m(\u001b[0m\u001b[0mseed\u001b[0m \u001b[0;34m=\u001b[0m \u001b[0;36m142\u001b[0m\u001b[0;34m)\u001b[0m\u001b[0;34m\u001b[0m\u001b[0;34m\u001b[0m\u001b[0m\n\u001b[0m",
      "\u001b[0;32m~/Documents/GitHub/Jack-knife/jacked/Operator.py\u001b[0m in \u001b[0;36mrun\u001b[0;34m(self, samples, seed)\u001b[0m\n\u001b[1;32m    154\u001b[0m             \u001b[0mself\u001b[0m\u001b[0;34m.\u001b[0m\u001b[0m_loader\u001b[0m\u001b[0;34m(\u001b[0m\u001b[0;34m)\u001b[0m\u001b[0;34m\u001b[0m\u001b[0;34m\u001b[0m\u001b[0m\n\u001b[1;32m    155\u001b[0m             \u001b[0mprint\u001b[0m\u001b[0;34m(\u001b[0m\u001b[0;34m'.. Jack Knife it'\u001b[0m\u001b[0;34m)\u001b[0m\u001b[0;34m\u001b[0m\u001b[0;34m\u001b[0m\u001b[0m\n\u001b[0;32m--> 156\u001b[0;31m             \u001b[0mself\u001b[0m\u001b[0;34m.\u001b[0m\u001b[0m_jack_it\u001b[0m\u001b[0;34m(\u001b[0m\u001b[0;34m)\u001b[0m\u001b[0;34m\u001b[0m\u001b[0;34m\u001b[0m\u001b[0m\n\u001b[0m\u001b[1;32m    157\u001b[0m             \u001b[0mprint\u001b[0m\u001b[0;34m(\u001b[0m\u001b[0;34m'.. Saving to MS'\u001b[0m\u001b[0;34m)\u001b[0m\u001b[0;34m\u001b[0m\u001b[0;34m\u001b[0m\u001b[0m\n\u001b[1;32m    158\u001b[0m             \u001b[0mself\u001b[0m\u001b[0;34m.\u001b[0m\u001b[0m_saver\u001b[0m\u001b[0;34m(\u001b[0m\u001b[0;34m)\u001b[0m\u001b[0;34m\u001b[0m\u001b[0;34m\u001b[0m\u001b[0m\n",
      "\u001b[0;32m~/Documents/GitHub/Jack-knife/jacked/Operator.py\u001b[0m in \u001b[0;36m_saver\u001b[0;34m(self)\u001b[0m\n\u001b[1;32m     68\u001b[0m         \u001b[0;32mif\u001b[0m \u001b[0mself\u001b[0m\u001b[0;34m.\u001b[0m\u001b[0mtest\u001b[0m \u001b[0;32mis\u001b[0m \u001b[0;32mnot\u001b[0m \u001b[0;32mTrue\u001b[0m\u001b[0;34m:\u001b[0m\u001b[0;34m\u001b[0m\u001b[0;34m\u001b[0m\u001b[0m\n\u001b[1;32m     69\u001b[0m             self.manager.model_to_ms(self.UVreal_jacked + self.UVimag_jacked*1j,\n\u001b[0;32m---> 70\u001b[0;31m                                     self.wgt)\n\u001b[0m\u001b[1;32m     71\u001b[0m         \u001b[0;32melse\u001b[0m\u001b[0;34m:\u001b[0m\u001b[0;34m\u001b[0m\u001b[0;34m\u001b[0m\u001b[0m\n\u001b[1;32m     72\u001b[0m             self.manager.model_to_ms(self.UVreal + self.UVimag*1j,\n",
      "\u001b[0;32m~/Documents/GitHub/Jack-knife/jacked/MsManager.py\u001b[0m in \u001b[0;36mmodel_to_ms\u001b[0;34m(self, model, sigma)\u001b[0m\n\u001b[1;32m    104\u001b[0m                     \u001b[0mrec\u001b[0m\u001b[0;34m[\u001b[0m\u001b[0;34m'weight'\u001b[0m\u001b[0;34m]\u001b[0m \u001b[0;34m=\u001b[0m \u001b[0mself\u001b[0m\u001b[0;34m.\u001b[0m\u001b[0mwgts\u001b[0m\u001b[0;34m\u001b[0m\u001b[0;34m\u001b[0m\u001b[0m\n\u001b[1;32m    105\u001b[0m \u001b[0;34m\u001b[0m\u001b[0m\n\u001b[0;32m--> 106\u001b[0;31m                 \u001b[0mms\u001b[0m\u001b[0;34m.\u001b[0m\u001b[0mputdata\u001b[0m\u001b[0;34m(\u001b[0m\u001b[0mrec\u001b[0m\u001b[0;34m)\u001b[0m\u001b[0;34m\u001b[0m\u001b[0;34m\u001b[0m\u001b[0m\n\u001b[0m\u001b[1;32m    107\u001b[0m                 \u001b[0mms\u001b[0m\u001b[0;34m.\u001b[0m\u001b[0mreset\u001b[0m\u001b[0;34m(\u001b[0m\u001b[0;34m)\u001b[0m\u001b[0;34m\u001b[0m\u001b[0;34m\u001b[0m\u001b[0m\n\u001b[1;32m    108\u001b[0m \u001b[0;34m\u001b[0m\u001b[0m\n",
      "\u001b[0;32m~/opt/anaconda3/envs/jacked_env/lib/python3.6/site-packages/casatools/ms.py\u001b[0m in \u001b[0;36mputdata\u001b[0;34m(self, items)\u001b[0m\n\u001b[1;32m    309\u001b[0m \u001b[0;34m\u001b[0m\u001b[0m\n\u001b[1;32m    310\u001b[0m         \"\"\"\n\u001b[0;32m--> 311\u001b[0;31m         \u001b[0;32mreturn\u001b[0m \u001b[0mself\u001b[0m\u001b[0;34m.\u001b[0m\u001b[0m_swigobj\u001b[0m\u001b[0;34m.\u001b[0m\u001b[0mputdata\u001b[0m\u001b[0;34m(\u001b[0m\u001b[0m_dict_ec\u001b[0m\u001b[0;34m(\u001b[0m\u001b[0mitems\u001b[0m\u001b[0;34m)\u001b[0m\u001b[0;34m)\u001b[0m\u001b[0;34m\u001b[0m\u001b[0;34m\u001b[0m\u001b[0m\n\u001b[0m\u001b[1;32m    312\u001b[0m \u001b[0;34m\u001b[0m\u001b[0m\n\u001b[1;32m    313\u001b[0m     \u001b[0;32mdef\u001b[0m \u001b[0mfromfits\u001b[0m\u001b[0;34m(\u001b[0m\u001b[0mself\u001b[0m\u001b[0;34m,\u001b[0m \u001b[0mmsfile\u001b[0m\u001b[0;34m=\u001b[0m\u001b[0;34m''\u001b[0m\u001b[0;34m,\u001b[0m \u001b[0mfitsfile\u001b[0m\u001b[0;34m=\u001b[0m\u001b[0;34m''\u001b[0m\u001b[0;34m,\u001b[0m \u001b[0mnomodify\u001b[0m\u001b[0;34m=\u001b[0m\u001b[0;32mTrue\u001b[0m\u001b[0;34m,\u001b[0m \u001b[0mlock\u001b[0m\u001b[0;34m=\u001b[0m\u001b[0;32mFalse\u001b[0m\u001b[0;34m,\u001b[0m \u001b[0mobstype\u001b[0m\u001b[0;34m=\u001b[0m\u001b[0mint\u001b[0m\u001b[0;34m(\u001b[0m\u001b[0;36m0\u001b[0m\u001b[0;34m)\u001b[0m\u001b[0;34m,\u001b[0m \u001b[0mhost\u001b[0m\u001b[0;34m=\u001b[0m\u001b[0;34m''\u001b[0m\u001b[0;34m,\u001b[0m \u001b[0mforcenewserver\u001b[0m\u001b[0;34m=\u001b[0m\u001b[0;32mFalse\u001b[0m\u001b[0;34m,\u001b[0m \u001b[0mantnamescheme\u001b[0m\u001b[0;34m=\u001b[0m\u001b[0;34m'old'\u001b[0m\u001b[0;34m)\u001b[0m\u001b[0;34m:\u001b[0m\u001b[0;34m\u001b[0m\u001b[0;34m\u001b[0m\u001b[0m\n",
      "\u001b[0;32m~/opt/anaconda3/envs/jacked_env/lib/python3.6/site-packages/casatools/__casac__/ms.py\u001b[0m in \u001b[0;36mputdata\u001b[0;34m(self, *args, **kwargs)\u001b[0m\n\u001b[1;32m    630\u001b[0m \u001b[0;34m\u001b[0m\u001b[0m\n\u001b[1;32m    631\u001b[0m         \"\"\"\n\u001b[0;32m--> 632\u001b[0;31m         \u001b[0;32mreturn\u001b[0m \u001b[0m_ms\u001b[0m\u001b[0;34m.\u001b[0m\u001b[0mms_putdata\u001b[0m\u001b[0;34m(\u001b[0m\u001b[0mself\u001b[0m\u001b[0;34m,\u001b[0m \u001b[0;34m*\u001b[0m\u001b[0margs\u001b[0m\u001b[0;34m,\u001b[0m \u001b[0;34m**\u001b[0m\u001b[0mkwargs\u001b[0m\u001b[0;34m)\u001b[0m\u001b[0;34m\u001b[0m\u001b[0;34m\u001b[0m\u001b[0m\n\u001b[0m\u001b[1;32m    633\u001b[0m \u001b[0;34m\u001b[0m\u001b[0m\n\u001b[1;32m    634\u001b[0m \u001b[0;34m\u001b[0m\u001b[0m\n",
      "\u001b[0;31mRuntimeError\u001b[0m: RegularFile: /Users/jvanmarr/Documents/GitHub/Jack-knife/output/ms_files/Glass-z13.ms/table.f21 does not exist and cannot be created"
     ]
    }
   ],
   "source": [
    "tool.run(seed = 142)"
   ]
  },
  {
   "cell_type": "markdown",
   "id": "b716a87c-5b13-428c-bfca-b417bff801a6",
   "metadata": {},
   "source": [
    "Or if you want multiple simulatiously, just run:"
   ]
  },
  {
   "cell_type": "code",
   "execution_count": null,
   "id": "05e65d17-0a3c-4881-b73d-9febd5b03857",
   "metadata": {},
   "outputs": [],
   "source": [
    "tool.run(samples = 3, seed = 242)"
   ]
  },
  {
   "cell_type": "markdown",
   "id": "99d064f4-c7bd-479a-a931-a400fdfb784f",
   "metadata": {},
   "source": [
    "Done :) Now you have 5 new different noise realizations of your observation, all stored in the output directory"
   ]
  }
 ],
 "metadata": {
  "kernelspec": {
   "display_name": "jacked_kernel",
   "language": "python",
   "name": "jacked_kernel"
  },
  "language_info": {
   "codemirror_mode": {
    "name": "ipython",
    "version": 3
   },
   "file_extension": ".py",
   "mimetype": "text/x-python",
   "name": "python",
   "nbconvert_exporter": "python",
   "pygments_lexer": "ipython3",
   "version": "3.6.13"
  }
 },
 "nbformat": 4,
 "nbformat_minor": 5
}
