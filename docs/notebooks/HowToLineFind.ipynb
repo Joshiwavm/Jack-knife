{
 "cells": [
  {
   "cell_type": "markdown",
   "id": "870343b9-07ae-491a-b743-650b69e33f98",
   "metadata": {},
   "source": [
    "# How to:\n",
    "## Use `jacked` for line finding. "
   ]
  },
  {
   "cell_type": "markdown",
   "id": "6cd6f83b-8236-46fe-b940-93cccfc82367",
   "metadata": {},
   "source": [
    "`jacked` can be used in a variaty of ways. Here, we show how to use the jackknifed data sets for inference of a line detection. According to JWST data, In the ALMA data we have been working with, there should be [OIII] emission coming from a galaxy which some 14 Billion light years away. Let's see if we can find it, or if it is undistinguishable from noise.\n",
    "\n",
    "The line finding is done with a code named [Source EXtractor](https://www.astromatic.net/software/sextractor/). Source extractor is integrated in a Python interface through the [`Interferopy` package](https://interferopy.readthedocs.io/en/latest/). Sadly, Interferopy is restricts the usage of Python version (>3.6 and <3.10), meaning we can't integrate it with `jacked` since `jacked` works in the visibillity plane, therefore it needs to use the package `casatasks` which limits the Python version to Python=3.6. Therefore, we ran the linefinding seperately, but you can you find the output catalogs also on the [google drive](https://drive.google.com/file/d/1FlQNwy7VtAk0zcFfdW5tMY2aGKivxlyR/view?usp=sharing) and the script we used to generate the outputs in the same folder as the tutorials. \n",
    "\n",
    "Let's first load in everythinbg. "
   ]
  },
  {
   "cell_type": "markdown",
   "id": "e0fde5d3-b707-4110-ad06-cd64a52eef69",
   "metadata": {},
   "source": [
    "### Load in "
   ]
  },
  {
   "cell_type": "code",
   "execution_count": 1,
   "id": "2561edc8-1e1b-4f78-ba4f-fd081fe267fb",
   "metadata": {},
   "outputs": [],
   "source": [
    "import numpy as np\n",
    "from scipy import stats\n",
    "import matplotlib.pyplot as plt\n",
    "from astropy.io import ascii\n",
    "\n",
    "import os\n",
    "plt.rcParams['text.usetex'] = True"
   ]
  },
  {
   "cell_type": "code",
   "execution_count": 2,
   "id": "65624796-602f-41bb-9c6c-8fccbf3f97cd",
   "metadata": {},
   "outputs": [],
   "source": [
    "# load in all catalogs\n",
    "# change directory depending on where you downloaded it\n",
    "\n",
    "path0 = '../../output/findclumps/Glass-z13/' \n",
    "path1 = '../../output/findclumps/Glass-z13_Jacked_seed42/'\n",
    "path2 = '../../output/findclumps/Glass-z13_Jacked_seed142/'\n",
    "path3 = '../../output/findclumps/Glass-z13_Jacked_seed242/'\n",
    "path4 = '../../output/findclumps/Glass-z13_Jacked_seed243/'\n",
    "path5 = '../../output/findclumps/Glass-z13_Jacked_seed244/'\n",
    "\n",
    "cat_N = 'findlcumps_clumpsN_minSNR_-2.cat'\n",
    "cat_P = 'findlcumps_clumpsP_minSNR_-2.cat'\n",
    "\n",
    "data_real_N = ascii.read(path0+cat_N)\n",
    "data_jack1_N = ascii.read(path1+cat_N)\n",
    "data_jack2_N = ascii.read(path2+cat_N)\n",
    "data_jack3_N = ascii.read(path3+cat_N)\n",
    "data_jack4_N = ascii.read(path4+cat_N)\n",
    "data_jack5_N = ascii.read(path5+cat_N)\n",
    "\n",
    "data_real_P = ascii.read(path0+cat_P)\n",
    "data_jack1_P = ascii.read(path1+cat_P)\n",
    "data_jack2_P = ascii.read(path2+cat_P)\n",
    "data_jack3_P = ascii.read(path3+cat_P)\n",
    "data_jack4_P = ascii.read(path4+cat_P)\n",
    "data_jack5_P = ascii.read(path5+cat_P)"
   ]
  },
  {
   "cell_type": "code",
   "execution_count": 3,
   "id": "dfc9578e-891e-4975-b6fd-f2c4b0317906",
   "metadata": {},
   "outputs": [],
   "source": [
    "# append the jackknifed cubed into one sample\n",
    "data_jack_N = np.hstack((data_jack1_N['SNR'], data_jack2_N['SNR'], data_jack3_N['SNR'], data_jack4_N['SNR'], data_jack5_N['SNR']))\n",
    "data_jack_P = np.hstack((data_jack1_P['SNR'], data_jack2_P['SNR'], data_jack3_P['SNR'], data_jack4_P['SNR'], data_jack5_P['SNR']))"
   ]
  },
  {
   "cell_type": "markdown",
   "id": "76b5c79e-57f2-4545-a824-038099f65a76",
   "metadata": {},
   "source": [
    "This is how a single catalog looks like. "
   ]
  },
  {
   "cell_type": "code",
   "execution_count": 4,
   "id": "e173a554-5aab-4451-b895-0f98495d3922",
   "metadata": {},
   "outputs": [
    {
     "data": {
      "text/html": [
       "<i>Table length=4966</i>\n",
       "<table id=\"table140549358913464\" class=\"table-striped table-bordered table-condensed\">\n",
       "<thead><tr><th>RA</th><th>DEC</th><th>FREQ_GHZ</th><th>X</th><th>Y</th><th>SNR</th><th>FLUX_MAX</th><th>BINNING</th></tr></thead>\n",
       "<thead><tr><th>float64</th><th>float64</th><th>float64</th><th>float64</th><th>float64</th><th>float64</th><th>float64</th><th>int64</th></tr></thead>\n",
       "<tr><td>3.49891</td><td>-30.32509</td><td>253.8213</td><td>589.5</td><td>123.5</td><td>1.76</td><td>0.000429</td><td>3</td></tr>\n",
       "<tr><td>3.49919</td><td>-30.32517</td><td>253.8213</td><td>302.1</td><td>29.4</td><td>1.44</td><td>0.00035</td><td>3</td></tr>\n",
       "<tr><td>3.49938</td><td>-30.32519</td><td>253.8213</td><td>101.7</td><td>2.0</td><td>1.61</td><td>0.000392</td><td>3</td></tr>\n",
       "<tr><td>3.49878</td><td>-30.32457</td><td>253.8213</td><td>723.3</td><td>747.3</td><td>3.5</td><td>0.000851</td><td>3</td></tr>\n",
       "<tr><td>3.49858</td><td>-30.32437</td><td>253.8213</td><td>935.0</td><td>988.3</td><td>3.14</td><td>0.000764</td><td>3</td></tr>\n",
       "<tr><td>3.49878</td><td>-30.32434</td><td>253.8213</td><td>720.4</td><td>1020.6</td><td>2.23</td><td>0.000544</td><td>3</td></tr>\n",
       "<tr><td>3.49852</td><td>-30.32457</td><td>253.8213</td><td>996.8</td><td>751.3</td><td>1.91</td><td>0.000464</td><td>3</td></tr>\n",
       "<tr><td>3.49916</td><td>-30.32461</td><td>253.8213</td><td>327.7</td><td>696.9</td><td>3.5</td><td>0.000851</td><td>3</td></tr>\n",
       "<tr><td>3.49931</td><td>-30.32458</td><td>253.8213</td><td>176.4</td><td>741.1</td><td>2.03</td><td>0.000494</td><td>3</td></tr>\n",
       "<tr><td>3.49893</td><td>-30.32458</td><td>253.8213</td><td>570.0</td><td>735.1</td><td>1.58</td><td>0.000384</td><td>3</td></tr>\n",
       "<tr><td>...</td><td>...</td><td>...</td><td>...</td><td>...</td><td>...</td><td>...</td><td>...</td></tr>\n",
       "<tr><td>3.49878</td><td>-30.32493</td><td>255.4775</td><td>720.7</td><td>322.5</td><td>1.33</td><td>0.000472</td><td>9</td></tr>\n",
       "<tr><td>3.49916</td><td>-30.32496</td><td>255.4775</td><td>331.7</td><td>278.4</td><td>2.29</td><td>0.000813</td><td>9</td></tr>\n",
       "<tr><td>3.49944</td><td>-30.32496</td><td>255.4775</td><td>44.0</td><td>283.6</td><td>1.54</td><td>0.000548</td><td>9</td></tr>\n",
       "<tr><td>3.49872</td><td>-30.32498</td><td>255.4775</td><td>788.4</td><td>253.9</td><td>1.68</td><td>0.000596</td><td>9</td></tr>\n",
       "<tr><td>3.49865</td><td>-30.32436</td><td>255.4775</td><td>861.0</td><td>995.7</td><td>1.78</td><td>0.000632</td><td>9</td></tr>\n",
       "<tr><td>3.49919</td><td>-30.3244</td><td>255.4775</td><td>299.1</td><td>949.5</td><td>2.53</td><td>0.000898</td><td>9</td></tr>\n",
       "<tr><td>3.49899</td><td>-30.32505</td><td>255.4775</td><td>511.6</td><td>175.1</td><td>1.33</td><td>0.000471</td><td>9</td></tr>\n",
       "<tr><td>3.4989</td><td>-30.32441</td><td>255.4775</td><td>606.3</td><td>942.4</td><td>1.4</td><td>0.000496</td><td>9</td></tr>\n",
       "<tr><td>3.49933</td><td>-30.32452</td><td>255.4775</td><td>153.3</td><td>813.3</td><td>1.87</td><td>0.000664</td><td>9</td></tr>\n",
       "<tr><td>3.49926</td><td>-30.32453</td><td>255.4775</td><td>226.2</td><td>802.6</td><td>1.52</td><td>0.000541</td><td>9</td></tr>\n",
       "</table>"
      ],
      "text/plain": [
       "<Table length=4966>\n",
       "   RA      DEC    FREQ_GHZ    X       Y      SNR   FLUX_MAX BINNING\n",
       "float64  float64  float64  float64 float64 float64 float64   int64 \n",
       "------- --------- -------- ------- ------- ------- -------- -------\n",
       "3.49891 -30.32509 253.8213   589.5   123.5    1.76 0.000429       3\n",
       "3.49919 -30.32517 253.8213   302.1    29.4    1.44  0.00035       3\n",
       "3.49938 -30.32519 253.8213   101.7     2.0    1.61 0.000392       3\n",
       "3.49878 -30.32457 253.8213   723.3   747.3     3.5 0.000851       3\n",
       "3.49858 -30.32437 253.8213   935.0   988.3    3.14 0.000764       3\n",
       "3.49878 -30.32434 253.8213   720.4  1020.6    2.23 0.000544       3\n",
       "3.49852 -30.32457 253.8213   996.8   751.3    1.91 0.000464       3\n",
       "3.49916 -30.32461 253.8213   327.7   696.9     3.5 0.000851       3\n",
       "3.49931 -30.32458 253.8213   176.4   741.1    2.03 0.000494       3\n",
       "3.49893 -30.32458 253.8213   570.0   735.1    1.58 0.000384       3\n",
       "    ...       ...      ...     ...     ...     ...      ...     ...\n",
       "3.49878 -30.32493 255.4775   720.7   322.5    1.33 0.000472       9\n",
       "3.49916 -30.32496 255.4775   331.7   278.4    2.29 0.000813       9\n",
       "3.49944 -30.32496 255.4775    44.0   283.6    1.54 0.000548       9\n",
       "3.49872 -30.32498 255.4775   788.4   253.9    1.68 0.000596       9\n",
       "3.49865 -30.32436 255.4775   861.0   995.7    1.78 0.000632       9\n",
       "3.49919  -30.3244 255.4775   299.1   949.5    2.53 0.000898       9\n",
       "3.49899 -30.32505 255.4775   511.6   175.1    1.33 0.000471       9\n",
       " 3.4989 -30.32441 255.4775   606.3   942.4     1.4 0.000496       9\n",
       "3.49933 -30.32452 255.4775   153.3   813.3    1.87 0.000664       9\n",
       "3.49926 -30.32453 255.4775   226.2   802.6    1.52 0.000541       9"
      ]
     },
     "execution_count": 4,
     "metadata": {},
     "output_type": "execute_result"
    }
   ],
   "source": [
    "data_real_P"
   ]
  },
  {
   "cell_type": "markdown",
   "id": "cb1571cd-906d-4405-a3de-3b45763984ed",
   "metadata": {},
   "source": [
    "## Plot sampled probabillity functions\n",
    "\n",
    "As explained in [Vio & Andreani 2016](https://arxiv.org/abs/1602.02392), the underlying distribution that sets the likelihood of false detection is the distribution of peaks of a smoothed (close to) Gaussian random field. With the jackedknifed measurment sets we effectively resample this distribution. This is more complete and more acurately than, for isntance, using the distribution of negative peak values as used in [Walter+2016](https://arxiv.org/abs/1607.06768). \n",
    "\n",
    "### Comparing the two noise distribution\n",
    "Below we show the comparison between the linefind results done on the jackknifed cubes (with postive and negative peak values) and the distribution of negative peak values from the real data."
   ]
  },
  {
   "cell_type": "code",
   "execution_count": 5,
   "id": "f7efa87e",
   "metadata": {},
   "outputs": [
    {
     "data": {
      "image/png": "[encoded data removed]",
      "text/plain": [
       "<Figure size 360x288 with 1 Axes>"
      ]
     },
     "metadata": {
      "needs_background": "light"
     },
     "output_type": "display_data"
    }
   ],
   "source": [
    "plt.figure(figsize=(5,4))\n",
    "plt.hist(data_real_N['SNR'], bins = np.linspace(1, 6, 25), density = True, alpha = 0.5, edgecolor='black', label = r'N$_{\\rm neg}$ real', color = 'C0')\n",
    "plt.hist(data_jack_P,        bins = np.linspace(1, 6, 25), density = True, alpha = 0.5, edgecolor='black', label = r'N$_{\\rm pos}$ jacked', color = 'C1')\n",
    "\n",
    "plt.xlabel(r'$\\gamma$ [$S/N$]', fontsize = 12)\n",
    "plt.ylabel(r'$\\mathcal{P}_{\\rm FD}$', fontsize = 12)\n",
    "plt.legend(frameon=False, fontsize = 12)\n",
    "\n",
    "plt.semilogy()\n",
    "plt.tight_layout()\n",
    "plt.savefig('../../plots/neg_vs_pos.pdf', dpi = 300)\n",
    "plt.show()"
   ]
  },
  {
   "cell_type": "code",
   "execution_count": 6,
   "id": "4d898373-0b4e-4627-a8e2-b1f5477d71da",
   "metadata": {},
   "outputs": [
    {
     "data": {
      "image/png": "[encoded data removed]",
      "text/plain": [
       "<Figure size 360x288 with 1 Axes>"
      ]
     },
     "metadata": {
      "needs_background": "light"
     },
     "output_type": "display_data"
    }
   ],
   "source": [
    "plt.figure(figsize=(5,4))\n",
    "plt.hist(data_real_N['SNR'], bins = np.linspace(1, 6, 25), density = True, alpha = 0.5, edgecolor='black', label = r'N$_{\\rm neg}$ real', color = 'C0')\n",
    "plt.hist(data_jack_N       , bins = np.linspace(1, 6, 25), density = True, alpha = 0.5, edgecolor='black', label = r'N$_{\\rm neg}$ jacked', color = 'C2')\n",
    "\n",
    "plt.xlabel(r'$\\gamma$ [$S/N$]', fontsize = 12)\n",
    "plt.ylabel(r'$\\mathcal{P}_{\\rm FD}$', fontsize = 12)\n",
    "plt.legend(frameon=False, fontsize = 12)\n",
    "\n",
    "plt.semilogy()\n",
    "plt.tight_layout()\n",
    "plt.savefig('../../plots/neg_vs_neg.pdf', dpi = 300)\n",
    "plt.show()"
   ]
  },
  {
   "cell_type": "markdown",
   "id": "53789b94-d2e5-4000-91b9-562b9dd4c9eb",
   "metadata": {},
   "source": [
    "We can do a quick statistical to verify if the two distributions are drawn from the same distribution. "
   ]
  },
  {
   "cell_type": "code",
   "execution_count": 7,
   "id": "6759960b-9a13-4fcc-b74d-51adafe413e6",
   "metadata": {},
   "outputs": [
    {
     "name": "stdout",
     "output_type": "stream",
     "text": [
      "p-value = 0.00000\n",
      "p-value = 0.00000\n"
     ]
    }
   ],
   "source": [
    "print('p-value = {:.5f}'.format(stats.ks_2samp(data_real_N['SNR'],data_jack_N).pvalue))\n",
    "print('p-value = {:.5f}'.format(stats.ks_2samp(data_real_N['SNR'],data_jack_P).pvalue))"
   ]
  },
  {
   "cell_type": "markdown",
   "id": "9c4d0ca7-a354-4bd1-a4f3-1e4cf5858d07",
   "metadata": {},
   "source": [
    "The null hypothesis that the two random samples come from the same distribution can be rejected"
   ]
  },
  {
   "cell_type": "markdown",
   "id": "3641813b-ec8a-4394-bf24-29567590a2c4",
   "metadata": {},
   "source": [
    "### Detection inference\n",
    "\n",
    "Now let's compare the noise distribution --- drawn fromt the jackknifed data sets --- with the positive peak distribution of the real initial data set. Since the astronomical signal is positive and any peak larger than our noise distribution can be considered true. "
   ]
  },
  {
   "cell_type": "code",
   "execution_count": 8,
   "id": "a3d2e260-5c6b-4d31-8ed2-122ac1c59634",
   "metadata": {},
   "outputs": [
    {
     "data": {
      "image/png": "[encoded data removed]",
      "text/plain": [
       "<Figure size 360x288 with 1 Axes>"
      ]
     },
     "metadata": {
      "needs_background": "light"
     },
     "output_type": "display_data"
    }
   ],
   "source": [
    "plt.figure(figsize=(5,4))\n",
    "bins_D  = plt.hist(data_real_P['SNR'], bins = np.linspace(1, 6, 25), density = True, alpha = 0.7, edgecolor='black', label = r'N$_{\\rm pos}$ real')\n",
    "bins_FD = plt.hist(data_jack_P, bins = np.linspace(1, 6, 25), density = True, alpha = 0.7, edgecolor='black', label = r'N$_{\\rm pos}$ jacked')\n",
    "\n",
    "# plotting the Poisson uncertainty\n",
    "bin_widths = bins_D[1][1] - bins_D[1][0]\n",
    "bin_centers = 0.5 * (bins_D[1][1:] + bins_D[1][:-1])\n",
    "raw_counts, _ = np.histogram(data_real_P['SNR'], bins=np.linspace(1, 6, 25))\n",
    "uncertainties = np.sqrt(raw_counts)\n",
    "density_uncertainties = uncertainties / (len(data_real_P['SNR']) * bin_widths)\n",
    "plt.errorbar(bin_centers, bins_D[0], yerr=density_uncertainties, fmt=' ', color='k', label='Poisson uncertainty')\n",
    "\n",
    "plt.xlabel(r'$\\gamma$ [$S/N$]', fontsize = 12)\n",
    "plt.ylabel(r'$\\mathcal{P}_{\\rm FD}$ vs $\\mathcal{P}_{\\rm D}$', fontsize = 12)\n",
    "plt.legend(frameon=False, fontsize = 12)\n",
    "plt.semilogy()\n",
    "\n",
    "plt.tight_layout()\n",
    "plt.savefig('../../plots/pos_vs_pos.pdf', dpi = 300)\n",
    "plt.show()"
   ]
  },
  {
   "cell_type": "markdown",
   "id": "25c370b2-0cd5-4852-9606-10f545b068d7",
   "metadata": {},
   "source": [
    "In the five jackknifed data sets we run, we thus find higher SNR peaks at the same position of the source. Thus we can't assume that the 4$\\sigma$ peak we find in the data is real. We can be more quantitive. Since we sampled the distribution of false positives with large statistics (preferable use more jack knifed data sets than 5), we can treat the resulting pdf as a sampled posterior distribution. Hence the integral from $\\gamma$ till the highest bin gives the likelihood of having at least one peak above the detection threshold of $4\\sigma$ which is:"
   ]
  },
  {
   "cell_type": "code",
   "execution_count": 9,
   "id": "f081dedf-53a6-43e9-8953-477da28c39f0",
   "metadata": {},
   "outputs": [
    {
     "name": "stdout",
     "output_type": "stream",
     "text": [
      "0.05559 %\n"
     ]
    }
   ],
   "source": [
    "print('{:.5f} %'.format(100*np.sum(bin_widths*bins_FD[0][((bins_FD[1][1:] + bins_FD[1][:-1])/2>4)])))"
   ]
  },
  {
   "cell_type": "markdown",
   "id": "74715b82-869c-4467-8b97-5fcbdb24fb53",
   "metadata": {},
   "source": [
    "But with N, amount of peaks in the data we expect to find:"
   ]
  },
  {
   "cell_type": "code",
   "execution_count": 10,
   "id": "d185abd2-04c3-4c4d-8c7b-e9299661e789",
   "metadata": {},
   "outputs": [
    {
     "name": "stdout",
     "output_type": "stream",
     "text": [
      "~ 2 ± 2.0\n"
     ]
    }
   ],
   "source": [
    "print('~',     int(np.sum(bin_widths*bins_FD[0][((bins_FD[1][1:] + bins_FD[1][:-1])/2>4)]) * len(data_real_P['SNR'])), \n",
    "'±', round(np.sqrt(np.sum(bin_widths*bins_FD[0][((bins_FD[1][1:] + bins_FD[1][:-1])/2>4)]) * len(data_real_P['SNR'])),0))"
   ]
  },
  {
   "cell_type": "markdown",
   "id": "8e6358ce-7fbb-4f5a-a78e-8bbf8b4eb26e",
   "metadata": {},
   "source": [
    "and we find in the real data set:"
   ]
  },
  {
   "cell_type": "code",
   "execution_count": 11,
   "id": "2ad510ab-4ff6-4416-a0ab-b79d46c3f193",
   "metadata": {},
   "outputs": [
    {
     "data": {
      "text/plain": [
       "3"
      ]
     },
     "execution_count": 11,
     "metadata": {},
     "output_type": "execute_result"
    }
   ],
   "source": [
    "raw_counts[((bins_FD[1][1:] + bins_FD[1][:-1])/2>4)].sum()"
   ]
  },
  {
   "cell_type": "markdown",
   "id": "e8af7417-61b3-423c-9147-0990d52f0604",
   "metadata": {},
   "source": [
    "But, there is a slight excess of 3.5-4 sigma peaks in the real data with respect to the probabillity of false detection. An excess of at a given $\\gamma$, might mean one of the those peaks is actually astrophysical signal. This excess is especially clear when taking the ratio of the two probabillity density functions:"
   ]
  },
  {
   "cell_type": "code",
   "execution_count": 12,
   "id": "cbb74ba1-c575-4cf9-ac8e-4688da9a4dfc",
   "metadata": {},
   "outputs": [
    {
     "name": "stderr",
     "output_type": "stream",
     "text": [
      "/Users/jvanmarr/opt/anaconda3/envs/jacked_env/lib/python3.6/site-packages/ipykernel_launcher.py:1: RuntimeWarning: invalid value encountered in true_divide\n",
      "  \"\"\"Entry point for launching an IPython kernel.\n"
     ]
    }
   ],
   "source": [
    "uns = uncertainties/(bin_widths*bins_FD[0]*len(data_real_P['SNR']))"
   ]
  },
  {
   "cell_type": "code",
   "execution_count": 13,
   "id": "f1c39323-95e7-438b-abfe-8688cb822a57",
   "metadata": {},
   "outputs": [
    {
     "name": "stderr",
     "output_type": "stream",
     "text": [
      "/Users/jvanmarr/opt/anaconda3/envs/jacked_env/lib/python3.6/site-packages/ipykernel_launcher.py:3: RuntimeWarning: invalid value encountered in true_divide\n",
      "  This is separate from the ipykernel package so we can avoid doing imports until\n",
      "/Users/jvanmarr/opt/anaconda3/envs/jacked_env/lib/python3.6/site-packages/ipykernel_launcher.py:8: RuntimeWarning: invalid value encountered in true_divide\n",
      "  \n"
     ]
    },
    {
     "data": {
      "image/png": "[encoded data removed]",
      "text/plain": [
       "<Figure size 360x288 with 1 Axes>"
      ]
     },
     "metadata": {
      "needs_background": "light"
     },
     "output_type": "display_data"
    },
    {
     "name": "stderr",
     "output_type": "stream",
     "text": [
      "/Users/jvanmarr/opt/anaconda3/envs/jacked_env/lib/python3.6/site-packages/ipykernel_launcher.py:18: RuntimeWarning: invalid value encountered in true_divide\n",
      "/Users/jvanmarr/opt/anaconda3/envs/jacked_env/lib/python3.6/site-packages/ipykernel_launcher.py:18: RuntimeWarning: divide by zero encountered in true_divide\n"
     ]
    },
    {
     "data": {
      "image/png": "[encoded data removed]",
      "text/plain": [
       "<Figure size 360x288 with 1 Axes>"
      ]
     },
     "metadata": {
      "needs_background": "light"
     },
     "output_type": "display_data"
    }
   ],
   "source": [
    "plt.figure(figsize=(5,4))\n",
    "\n",
    "plt.step(bin_centers, bins_D[0]/bins_FD[0]-1, where='mid')\n",
    "plt.xlabel(r'$\\gamma$ [$S/N$]', fontsize = 12)\n",
    "plt.ylabel(r'$\\mathcal{P}_{\\rm D}$ / $\\mathcal{P}_{\\rm FD}$ - 1', fontsize = 12)\n",
    "\n",
    "plt.axhline(0, c = 'k', ls = '--')\n",
    "plt.errorbar(bin_centers, bins_D[0]/bins_FD[0]-1, yerr=uns, fmt=' ', color='k', label='Poisson uncertainty')\n",
    "\n",
    "plt.legend(frameon=False)\n",
    "plt.axis(xmin = 2.7)\n",
    "plt.tight_layout()\n",
    "plt.savefig('../../plots/excess_pos_peaks.pdf', dpi = 300)\n",
    "plt.show()\n",
    "\n",
    "plt.figure(figsize=(5,4))\n",
    "\n",
    "plt.step(bin_centers, (bins_D[0]/bins_FD[0]-1)/(uns), where='mid')\n",
    "plt.xlabel(r'$\\gamma$ [$S/N$]', fontsize = 12)\n",
    "plt.ylabel(r'($\\mathcal{P}_{\\rm D}$ / $\\mathcal{P}_{\\rm FD}$ - 1 ) / $\\lambda^{0.5}$', fontsize = 12)\n",
    "\n",
    "plt.axhline(1, c = 'k', ls = '--')\n",
    "\n",
    "plt.axis(ymin = 0, xmin = 2.7)\n",
    "plt.tight_layout()\n",
    "plt.savefig('../../plots/excess_pos_peaks.pdf', dpi = 300)\n",
    "plt.show()"
   ]
  },
  {
   "cell_type": "markdown",
   "id": "7c900563-3925-4490-87ae-1e287f953688",
   "metadata": {},
   "source": [
    "So, is the excess significant? Well by $\\approx 2.5\\sigma$... (could do a gaussian prior on the redshift uncertainty from JWST and get the most likeli candidate?)"
   ]
  }
 ],
 "metadata": {
  "kernelspec": {
   "display_name": "jacked_kernel",
   "language": "python",
   "name": "jacked_kernel"
  },
  "language_info": {
   "codemirror_mode": {
    "name": "ipython",
    "version": 3
   },
   "file_extension": ".py",
   "mimetype": "text/x-python",
   "name": "python",
   "nbconvert_exporter": "python",
   "pygments_lexer": "ipython3",
   "version": "3.6.13"
  }
 },
 "nbformat": 4,
 "nbformat_minor": 5
}
